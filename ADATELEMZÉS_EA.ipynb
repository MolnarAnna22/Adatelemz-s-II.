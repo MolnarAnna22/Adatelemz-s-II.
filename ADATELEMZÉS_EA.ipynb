{
 "cells": [
  {
   "cell_type": "code",
   "execution_count": 135,
   "metadata": {},
   "outputs": [],
   "source": [
    "from chefboost import Chefboost as chef\n",
    "import pandas as pd\n",
    "import pyreadstat\n",
    "\n",
    "df,meta = pyreadstat.read_sav(\"./telco_v1.sav\")"
   ]
  },
  {
   "cell_type": "code",
   "execution_count": 136,
   "metadata": {},
   "outputs": [
    {
     "data": {
      "text/html": [
       "<div>\n",
       "<style scoped>\n",
       "    .dataframe tbody tr th:only-of-type {\n",
       "        vertical-align: middle;\n",
       "    }\n",
       "\n",
       "    .dataframe tbody tr th {\n",
       "        vertical-align: top;\n",
       "    }\n",
       "\n",
       "    .dataframe thead th {\n",
       "        text-align: right;\n",
       "    }\n",
       "</style>\n",
       "<table border=\"1\" class=\"dataframe\">\n",
       "  <thead>\n",
       "    <tr style=\"text-align: right;\">\n",
       "      <th></th>\n",
       "      <th>region</th>\n",
       "      <th>tenure</th>\n",
       "      <th>age</th>\n",
       "      <th>marital</th>\n",
       "      <th>address</th>\n",
       "      <th>income</th>\n",
       "      <th>ed</th>\n",
       "      <th>employ</th>\n",
       "      <th>retire</th>\n",
       "      <th>gender</th>\n",
       "      <th>...</th>\n",
       "      <th>tollmon_bin_tollmon</th>\n",
       "      <th>tollmon_chaid</th>\n",
       "      <th>tenure_chaid</th>\n",
       "      <th>tenure_bin</th>\n",
       "      <th>tenure_bin2</th>\n",
       "      <th>tenure_bin3</th>\n",
       "      <th>tenure_bin4</th>\n",
       "      <th>age_chaid</th>\n",
       "      <th>Ininc_chaid</th>\n",
       "      <th>income_churn</th>\n",
       "    </tr>\n",
       "  </thead>\n",
       "  <tbody>\n",
       "    <tr>\n",
       "      <th>0</th>\n",
       "      <td>2.0</td>\n",
       "      <td>13.0</td>\n",
       "      <td>44.0</td>\n",
       "      <td>1.0</td>\n",
       "      <td>9.0</td>\n",
       "      <td>64.0</td>\n",
       "      <td>4.0</td>\n",
       "      <td>5.0</td>\n",
       "      <td>0.0</td>\n",
       "      <td>0.0</td>\n",
       "      <td>...</td>\n",
       "      <td>1.0</td>\n",
       "      <td>0.0</td>\n",
       "      <td>2.0</td>\n",
       "      <td>1.0</td>\n",
       "      <td>1.0</td>\n",
       "      <td>1.0</td>\n",
       "      <td>1.0</td>\n",
       "      <td>2.0</td>\n",
       "      <td>2.0</td>\n",
       "      <td>2.0</td>\n",
       "    </tr>\n",
       "    <tr>\n",
       "      <th>1</th>\n",
       "      <td>3.0</td>\n",
       "      <td>11.0</td>\n",
       "      <td>33.0</td>\n",
       "      <td>1.0</td>\n",
       "      <td>7.0</td>\n",
       "      <td>136.0</td>\n",
       "      <td>5.0</td>\n",
       "      <td>5.0</td>\n",
       "      <td>0.0</td>\n",
       "      <td>0.0</td>\n",
       "      <td>...</td>\n",
       "      <td>2.0</td>\n",
       "      <td>0.0</td>\n",
       "      <td>2.0</td>\n",
       "      <td>1.0</td>\n",
       "      <td>1.0</td>\n",
       "      <td>1.0</td>\n",
       "      <td>1.0</td>\n",
       "      <td>1.0</td>\n",
       "      <td>2.0</td>\n",
       "      <td>2.0</td>\n",
       "    </tr>\n",
       "    <tr>\n",
       "      <th>2</th>\n",
       "      <td>3.0</td>\n",
       "      <td>68.0</td>\n",
       "      <td>52.0</td>\n",
       "      <td>1.0</td>\n",
       "      <td>24.0</td>\n",
       "      <td>116.0</td>\n",
       "      <td>1.0</td>\n",
       "      <td>29.0</td>\n",
       "      <td>0.0</td>\n",
       "      <td>1.0</td>\n",
       "      <td>...</td>\n",
       "      <td>2.0</td>\n",
       "      <td>0.0</td>\n",
       "      <td>6.0</td>\n",
       "      <td>4.0</td>\n",
       "      <td>2.0</td>\n",
       "      <td>4.0</td>\n",
       "      <td>5.0</td>\n",
       "      <td>2.0</td>\n",
       "      <td>2.0</td>\n",
       "      <td>2.0</td>\n",
       "    </tr>\n",
       "    <tr>\n",
       "      <th>3</th>\n",
       "      <td>2.0</td>\n",
       "      <td>33.0</td>\n",
       "      <td>33.0</td>\n",
       "      <td>0.0</td>\n",
       "      <td>12.0</td>\n",
       "      <td>33.0</td>\n",
       "      <td>2.0</td>\n",
       "      <td>0.0</td>\n",
       "      <td>0.0</td>\n",
       "      <td>1.0</td>\n",
       "      <td>...</td>\n",
       "      <td>1.0</td>\n",
       "      <td>0.0</td>\n",
       "      <td>4.0</td>\n",
       "      <td>2.0</td>\n",
       "      <td>1.0</td>\n",
       "      <td>2.0</td>\n",
       "      <td>3.0</td>\n",
       "      <td>1.0</td>\n",
       "      <td>1.0</td>\n",
       "      <td>1.0</td>\n",
       "    </tr>\n",
       "    <tr>\n",
       "      <th>4</th>\n",
       "      <td>2.0</td>\n",
       "      <td>23.0</td>\n",
       "      <td>30.0</td>\n",
       "      <td>1.0</td>\n",
       "      <td>9.0</td>\n",
       "      <td>30.0</td>\n",
       "      <td>1.0</td>\n",
       "      <td>2.0</td>\n",
       "      <td>0.0</td>\n",
       "      <td>0.0</td>\n",
       "      <td>...</td>\n",
       "      <td>1.0</td>\n",
       "      <td>0.0</td>\n",
       "      <td>3.0</td>\n",
       "      <td>2.0</td>\n",
       "      <td>1.0</td>\n",
       "      <td>2.0</td>\n",
       "      <td>2.0</td>\n",
       "      <td>1.0</td>\n",
       "      <td>1.0</td>\n",
       "      <td>1.0</td>\n",
       "    </tr>\n",
       "    <tr>\n",
       "      <th>...</th>\n",
       "      <td>...</td>\n",
       "      <td>...</td>\n",
       "      <td>...</td>\n",
       "      <td>...</td>\n",
       "      <td>...</td>\n",
       "      <td>...</td>\n",
       "      <td>...</td>\n",
       "      <td>...</td>\n",
       "      <td>...</td>\n",
       "      <td>...</td>\n",
       "      <td>...</td>\n",
       "      <td>...</td>\n",
       "      <td>...</td>\n",
       "      <td>...</td>\n",
       "      <td>...</td>\n",
       "      <td>...</td>\n",
       "      <td>...</td>\n",
       "      <td>...</td>\n",
       "      <td>...</td>\n",
       "      <td>...</td>\n",
       "      <td>...</td>\n",
       "    </tr>\n",
       "    <tr>\n",
       "      <th>995</th>\n",
       "      <td>3.0</td>\n",
       "      <td>10.0</td>\n",
       "      <td>39.0</td>\n",
       "      <td>0.0</td>\n",
       "      <td>0.0</td>\n",
       "      <td>27.0</td>\n",
       "      <td>3.0</td>\n",
       "      <td>0.0</td>\n",
       "      <td>0.0</td>\n",
       "      <td>1.0</td>\n",
       "      <td>...</td>\n",
       "      <td>1.0</td>\n",
       "      <td>0.0</td>\n",
       "      <td>2.0</td>\n",
       "      <td>1.0</td>\n",
       "      <td>1.0</td>\n",
       "      <td>1.0</td>\n",
       "      <td>1.0</td>\n",
       "      <td>2.0</td>\n",
       "      <td>1.0</td>\n",
       "      <td>1.0</td>\n",
       "    </tr>\n",
       "    <tr>\n",
       "      <th>996</th>\n",
       "      <td>1.0</td>\n",
       "      <td>7.0</td>\n",
       "      <td>34.0</td>\n",
       "      <td>0.0</td>\n",
       "      <td>2.0</td>\n",
       "      <td>22.0</td>\n",
       "      <td>5.0</td>\n",
       "      <td>5.0</td>\n",
       "      <td>0.0</td>\n",
       "      <td>1.0</td>\n",
       "      <td>...</td>\n",
       "      <td>1.0</td>\n",
       "      <td>0.0</td>\n",
       "      <td>2.0</td>\n",
       "      <td>1.0</td>\n",
       "      <td>1.0</td>\n",
       "      <td>1.0</td>\n",
       "      <td>1.0</td>\n",
       "      <td>1.0</td>\n",
       "      <td>1.0</td>\n",
       "      <td>1.0</td>\n",
       "    </tr>\n",
       "    <tr>\n",
       "      <th>997</th>\n",
       "      <td>3.0</td>\n",
       "      <td>67.0</td>\n",
       "      <td>59.0</td>\n",
       "      <td>0.0</td>\n",
       "      <td>40.0</td>\n",
       "      <td>944.0</td>\n",
       "      <td>5.0</td>\n",
       "      <td>33.0</td>\n",
       "      <td>0.0</td>\n",
       "      <td>1.0</td>\n",
       "      <td>...</td>\n",
       "      <td>2.0</td>\n",
       "      <td>1.0</td>\n",
       "      <td>6.0</td>\n",
       "      <td>4.0</td>\n",
       "      <td>2.0</td>\n",
       "      <td>4.0</td>\n",
       "      <td>5.0</td>\n",
       "      <td>3.0</td>\n",
       "      <td>2.0</td>\n",
       "      <td>2.0</td>\n",
       "    </tr>\n",
       "    <tr>\n",
       "      <th>998</th>\n",
       "      <td>3.0</td>\n",
       "      <td>70.0</td>\n",
       "      <td>49.0</td>\n",
       "      <td>0.0</td>\n",
       "      <td>18.0</td>\n",
       "      <td>87.0</td>\n",
       "      <td>2.0</td>\n",
       "      <td>22.0</td>\n",
       "      <td>0.0</td>\n",
       "      <td>1.0</td>\n",
       "      <td>...</td>\n",
       "      <td>2.0</td>\n",
       "      <td>1.0</td>\n",
       "      <td>6.0</td>\n",
       "      <td>4.0</td>\n",
       "      <td>2.0</td>\n",
       "      <td>4.0</td>\n",
       "      <td>5.0</td>\n",
       "      <td>2.0</td>\n",
       "      <td>2.0</td>\n",
       "      <td>2.0</td>\n",
       "    </tr>\n",
       "    <tr>\n",
       "      <th>999</th>\n",
       "      <td>3.0</td>\n",
       "      <td>50.0</td>\n",
       "      <td>36.0</td>\n",
       "      <td>1.0</td>\n",
       "      <td>7.0</td>\n",
       "      <td>39.0</td>\n",
       "      <td>3.0</td>\n",
       "      <td>3.0</td>\n",
       "      <td>0.0</td>\n",
       "      <td>1.0</td>\n",
       "      <td>...</td>\n",
       "      <td>1.0</td>\n",
       "      <td>0.0</td>\n",
       "      <td>4.0</td>\n",
       "      <td>3.0</td>\n",
       "      <td>2.0</td>\n",
       "      <td>3.0</td>\n",
       "      <td>4.0</td>\n",
       "      <td>1.0</td>\n",
       "      <td>1.0</td>\n",
       "      <td>1.0</td>\n",
       "    </tr>\n",
       "  </tbody>\n",
       "</table>\n",
       "<p>1000 rows × 52 columns</p>\n",
       "</div>"
      ],
      "text/plain": [
       "     region  tenure   age  marital  address  income   ed  employ  retire  \\\n",
       "0       2.0    13.0  44.0      1.0      9.0    64.0  4.0     5.0     0.0   \n",
       "1       3.0    11.0  33.0      1.0      7.0   136.0  5.0     5.0     0.0   \n",
       "2       3.0    68.0  52.0      1.0     24.0   116.0  1.0    29.0     0.0   \n",
       "3       2.0    33.0  33.0      0.0     12.0    33.0  2.0     0.0     0.0   \n",
       "4       2.0    23.0  30.0      1.0      9.0    30.0  1.0     2.0     0.0   \n",
       "..      ...     ...   ...      ...      ...     ...  ...     ...     ...   \n",
       "995     3.0    10.0  39.0      0.0      0.0    27.0  3.0     0.0     0.0   \n",
       "996     1.0     7.0  34.0      0.0      2.0    22.0  5.0     5.0     0.0   \n",
       "997     3.0    67.0  59.0      0.0     40.0   944.0  5.0    33.0     0.0   \n",
       "998     3.0    70.0  49.0      0.0     18.0    87.0  2.0    22.0     0.0   \n",
       "999     3.0    50.0  36.0      1.0      7.0    39.0  3.0     3.0     0.0   \n",
       "\n",
       "     gender  ...  tollmon_bin_tollmon  tollmon_chaid  tenure_chaid  \\\n",
       "0       0.0  ...                  1.0            0.0           2.0   \n",
       "1       0.0  ...                  2.0            0.0           2.0   \n",
       "2       1.0  ...                  2.0            0.0           6.0   \n",
       "3       1.0  ...                  1.0            0.0           4.0   \n",
       "4       0.0  ...                  1.0            0.0           3.0   \n",
       "..      ...  ...                  ...            ...           ...   \n",
       "995     1.0  ...                  1.0            0.0           2.0   \n",
       "996     1.0  ...                  1.0            0.0           2.0   \n",
       "997     1.0  ...                  2.0            1.0           6.0   \n",
       "998     1.0  ...                  2.0            1.0           6.0   \n",
       "999     1.0  ...                  1.0            0.0           4.0   \n",
       "\n",
       "     tenure_bin  tenure_bin2  tenure_bin3  tenure_bin4  age_chaid  \\\n",
       "0           1.0          1.0          1.0          1.0        2.0   \n",
       "1           1.0          1.0          1.0          1.0        1.0   \n",
       "2           4.0          2.0          4.0          5.0        2.0   \n",
       "3           2.0          1.0          2.0          3.0        1.0   \n",
       "4           2.0          1.0          2.0          2.0        1.0   \n",
       "..          ...          ...          ...          ...        ...   \n",
       "995         1.0          1.0          1.0          1.0        2.0   \n",
       "996         1.0          1.0          1.0          1.0        1.0   \n",
       "997         4.0          2.0          4.0          5.0        3.0   \n",
       "998         4.0          2.0          4.0          5.0        2.0   \n",
       "999         3.0          2.0          3.0          4.0        1.0   \n",
       "\n",
       "     Ininc_chaid  income_churn  \n",
       "0            2.0           2.0  \n",
       "1            2.0           2.0  \n",
       "2            2.0           2.0  \n",
       "3            1.0           1.0  \n",
       "4            1.0           1.0  \n",
       "..           ...           ...  \n",
       "995          1.0           1.0  \n",
       "996          1.0           1.0  \n",
       "997          2.0           2.0  \n",
       "998          2.0           2.0  \n",
       "999          1.0           1.0  \n",
       "\n",
       "[1000 rows x 52 columns]"
      ]
     },
     "execution_count": 136,
     "metadata": {},
     "output_type": "execute_result"
    }
   ],
   "source": [
    "df"
   ]
  },
  {
   "cell_type": "code",
   "execution_count": 137,
   "metadata": {},
   "outputs": [
    {
     "data": {
      "text/plain": [
       "Index(['region', 'tenure', 'age', 'marital', 'address', 'income', 'ed',\n",
       "       'employ', 'retire', 'gender', 'reside', 'tollfree', 'equip', 'callcard',\n",
       "       'wireless', 'longmon', 'tollmon', 'equipmon', 'cardmon', 'wiremon',\n",
       "       'longten', 'tollten', 'equipten', 'cardten', 'wireten', 'multline',\n",
       "       'voice', 'pager', 'internet', 'callid', 'callwait', 'forward', 'confer',\n",
       "       'ebill', 'loglong', 'logtoll', 'logequi', 'logcard', 'logwire', 'lninc',\n",
       "       'custcat', 'churn', 'tollmon_bin_tollmon', 'tollmon_chaid',\n",
       "       'tenure_chaid', 'tenure_bin', 'tenure_bin2', 'tenure_bin3',\n",
       "       'tenure_bin4', 'age_chaid', 'Ininc_chaid', 'income_churn'],\n",
       "      dtype='object')"
      ]
     },
     "execution_count": 137,
     "metadata": {},
     "output_type": "execute_result"
    }
   ],
   "source": [
    "df.columns"
   ]
  },
  {
   "cell_type": "code",
   "execution_count": 138,
   "metadata": {},
   "outputs": [
    {
     "name": "stdout",
     "output_type": "stream",
     "text": [
      "region                   0\n",
      "tenure                   0\n",
      "age                      0\n",
      "marital                  0\n",
      "address                  0\n",
      "income                   0\n",
      "ed                       0\n",
      "employ                   0\n",
      "retire                   0\n",
      "gender                   0\n",
      "reside                   0\n",
      "tollfree                 0\n",
      "equip                    0\n",
      "callcard                 0\n",
      "wireless                 0\n",
      "longmon                  0\n",
      "tollmon                  0\n",
      "equipmon                 0\n",
      "cardmon                  0\n",
      "wiremon                  0\n",
      "longten                  0\n",
      "tollten                  0\n",
      "equipten                 0\n",
      "cardten                  0\n",
      "wireten                  0\n",
      "multline                 0\n",
      "voice                    0\n",
      "pager                    0\n",
      "internet                 0\n",
      "callid                   0\n",
      "callwait                 0\n",
      "forward                  0\n",
      "confer                   0\n",
      "ebill                    0\n",
      "loglong                  0\n",
      "logtoll                525\n",
      "logequi                614\n",
      "logcard                322\n",
      "logwire                704\n",
      "lninc                    0\n",
      "custcat                  0\n",
      "churn                    0\n",
      "tollmon_bin_tollmon      0\n",
      "tollmon_chaid            0\n",
      "tenure_chaid             0\n",
      "tenure_bin               0\n",
      "tenure_bin2              0\n",
      "tenure_bin3              0\n",
      "tenure_bin4              0\n",
      "age_chaid                0\n",
      "Ininc_chaid              0\n",
      "income_churn             0\n",
      "dtype: int64\n"
     ]
    }
   ],
   "source": [
    "print(df.isnull().sum())"
   ]
  },
  {
   "cell_type": "code",
   "execution_count": 144,
   "metadata": {},
   "outputs": [
    {
     "data": {
      "image/png": "[encoded data removed]",
      "text/plain": [
       "<Figure size 432x288 with 1 Axes>"
      ]
     },
     "metadata": {
      "needs_background": "light"
     },
     "output_type": "display_data"
    }
   ],
   "source": [
    "import matplotlib.pyplot as plt\n",
    "import seaborn as sns\n",
    "\n",
    "fig, ax = plt.subplots()\n",
    "sns.distplot(df.tenure, ax=ax, hist=True, kde=False, \n",
    "             bins=range(0,73,1), color = 'blue',\n",
    "             hist_kws={'edgecolor':'black'})\n",
    "ax.set_xlim(0,73)\n",
    "ax.set_xticks(range(0,73,5))\n",
    "plt.show()"
   ]
  },
  {
   "cell_type": "code",
   "execution_count": 150,
   "metadata": {},
   "outputs": [
    {
     "data": {
      "text/plain": [
       "(726, 52)"
      ]
     },
     "execution_count": 150,
     "metadata": {},
     "output_type": "execute_result"
    }
   ],
   "source": [
    "df_nochurn = df[df.churn == 0]\n",
    "df_nochurn.shape"
   ]
  },
  {
   "cell_type": "code",
   "execution_count": 151,
   "metadata": {},
   "outputs": [
    {
     "data": {
      "image/png": "[encoded data removed]",
      "text/plain": [
       "<Figure size 432x288 with 1 Axes>"
      ]
     },
     "metadata": {
      "needs_background": "light"
     },
     "output_type": "display_data"
    }
   ],
   "source": [
    "fig, ax = plt.subplots()\n",
    "sns.distplot(df_nochurn.tenure, ax=ax, hist=True, kde=False, \n",
    "             bins=range(0,73,1), color = 'blue',\n",
    "             hist_kws={'edgecolor':'black'})\n",
    "ax.set_xlim(0,73)\n",
    "ax.set_xticks(range(0,73,5))\n",
    "plt.show()"
   ]
  },
  {
   "cell_type": "code",
   "execution_count": 149,
   "metadata": {},
   "outputs": [
    {
     "data": {
      "text/plain": [
       "(274, 52)"
      ]
     },
     "execution_count": 149,
     "metadata": {},
     "output_type": "execute_result"
    }
   ],
   "source": [
    "df_churn = df[df.churn == 1]\n",
    "df_churn.shape"
   ]
  },
  {
   "cell_type": "code",
   "execution_count": 152,
   "metadata": {},
   "outputs": [
    {
     "data": {
      "image/png": "[encoded data removed]",
      "text/plain": [
       "<Figure size 432x288 with 1 Axes>"
      ]
     },
     "metadata": {
      "needs_background": "light"
     },
     "output_type": "display_data"
    }
   ],
   "source": [
    "fig, ax = plt.subplots()\n",
    "sns.distplot(df_churn.tenure, ax=ax, hist=True, kde=False, \n",
    "             bins=range(0,73,1), color = 'blue',\n",
    "             hist_kws={'edgecolor':'black'})\n",
    "ax.set_xlim(0,73)\n",
    "ax.set_xticks(range(0,73,5))\n",
    "plt.show()"
   ]
  },
  {
   "cell_type": "code",
   "execution_count": 160,
   "metadata": {},
   "outputs": [
    {
     "data": {
      "image/png": "[encoded data removed]",
      "text/plain": [
       "<Figure size 432x288 with 1 Axes>"
      ]
     },
     "metadata": {
      "needs_background": "light"
     },
     "output_type": "display_data"
    }
   ],
   "source": [
    "import matplotlib.pyplot as plt\n",
    "import seaborn as sns\n",
    "\n",
    "fig, ax = plt.subplots()\n",
    "sns.distplot(df.tenure_chaid, ax=ax, hist=True, kde=False, \n",
    "             bins=range(1,7,1), color = 'blue',\n",
    "             hist_kws={'edgecolor':'black'})\n",
    "ax.set_xlim(1,6)\n",
    "ax.set_xticks(range(1,7,1))\n",
    "plt.show()"
   ]
  },
  {
   "cell_type": "code",
   "execution_count": 163,
   "metadata": {},
   "outputs": [
    {
     "data": {
      "image/png": "[encoded data removed]",
      "text/plain": [
       "<Figure size 432x288 with 1 Axes>"
      ]
     },
     "metadata": {
      "needs_background": "light"
     },
     "output_type": "display_data"
    }
   ],
   "source": [
    "fig, ax = plt.subplots()\n",
    "sns.distplot(df_nochurn.tenure_chaid, ax=ax, hist=True, kde=False, \n",
    "             bins=range(1,7,1), color = 'blue',\n",
    "             hist_kws={'edgecolor':'black'})\n",
    "ax.set_xlim(1,6)\n",
    "ax.set_xticks(range(1,7,1))\n",
    "plt.show()"
   ]
  },
  {
   "cell_type": "code",
   "execution_count": 164,
   "metadata": {},
   "outputs": [
    {
     "data": {
      "image/png": "[encoded data removed]",
      "text/plain": [
       "<Figure size 432x288 with 1 Axes>"
      ]
     },
     "metadata": {
      "needs_background": "light"
     },
     "output_type": "display_data"
    }
   ],
   "source": [
    "fig, ax = plt.subplots()\n",
    "sns.distplot(df_churn.tenure, ax=ax, hist=True, kde=False, \n",
    "             bins=range(1,7,1), color = 'blue',\n",
    "             hist_kws={'edgecolor':'black'})\n",
    "ax.set_xlim(1,6)\n",
    "ax.set_xticks(range(1,7,5))\n",
    "plt.show()"
   ]
  },
  {
   "cell_type": "code",
   "execution_count": 183,
   "metadata": {},
   "outputs": [],
   "source": [
    "import statsmodels.formula.api as smf\n",
    "import seaborn as sns"
   ]
  },
  {
   "cell_type": "code",
   "execution_count": 185,
   "metadata": {},
   "outputs": [
    {
     "data": {
      "image/png": "[encoded data removed]",
      "text/plain": [
       "<Figure size 432x288 with 1 Axes>"
      ]
     },
     "metadata": {
      "needs_background": "light"
     },
     "output_type": "display_data"
    }
   ],
   "source": [
    "tenure = sns.regplot(x= 'tenure', y= 'churn', data= df, logistic= True).set_title(\"Tenure Log Odds Linear Plot\")"
   ]
  },
  {
   "cell_type": "code",
   "execution_count": 186,
   "metadata": {},
   "outputs": [
    {
     "data": {
      "image/png": "[encoded data removed]",
      "text/plain": [
       "<Figure size 432x288 with 1 Axes>"
      ]
     },
     "metadata": {
      "needs_background": "light"
     },
     "output_type": "display_data"
    }
   ],
   "source": [
    "employ = sns.regplot(x= 'employ', y= 'churn', data= df, logistic= True).set_title(\"Employ Log Odds Linear Plot\")"
   ]
  },
  {
   "cell_type": "code",
   "execution_count": 188,
   "metadata": {},
   "outputs": [
    {
     "data": {
      "image/png": "[encoded data removed]",
      "text/plain": [
       "<Figure size 432x288 with 1 Axes>"
      ]
     },
     "metadata": {
      "needs_background": "light"
     },
     "output_type": "display_data"
    }
   ],
   "source": [
    "equipmon = sns.regplot(x= 'equipmon', y= 'churn', data= df, logistic= True).set_title(\"Equipmon Log Odds Linear Plot\")"
   ]
  },
  {
   "cell_type": "code",
   "execution_count": 221,
   "metadata": {},
   "outputs": [
    {
     "data": {
      "text/html": [
       "<div>\n",
       "<style scoped>\n",
       "    .dataframe tbody tr th:only-of-type {\n",
       "        vertical-align: middle;\n",
       "    }\n",
       "\n",
       "    .dataframe tbody tr th {\n",
       "        vertical-align: top;\n",
       "    }\n",
       "\n",
       "    .dataframe thead th {\n",
       "        text-align: right;\n",
       "    }\n",
       "</style>\n",
       "<table border=\"1\" class=\"dataframe\">\n",
       "  <thead>\n",
       "    <tr style=\"text-align: right;\">\n",
       "      <th></th>\n",
       "      <th>equipmon</th>\n",
       "      <th>employ</th>\n",
       "      <th>churn</th>\n",
       "      <th>tenure_chaid</th>\n",
       "    </tr>\n",
       "  </thead>\n",
       "  <tbody>\n",
       "    <tr>\n",
       "      <th>0</th>\n",
       "      <td>0.00</td>\n",
       "      <td>5.0</td>\n",
       "      <td>1.0</td>\n",
       "      <td>2.0</td>\n",
       "    </tr>\n",
       "    <tr>\n",
       "      <th>1</th>\n",
       "      <td>0.00</td>\n",
       "      <td>5.0</td>\n",
       "      <td>1.0</td>\n",
       "      <td>2.0</td>\n",
       "    </tr>\n",
       "    <tr>\n",
       "      <th>2</th>\n",
       "      <td>0.00</td>\n",
       "      <td>29.0</td>\n",
       "      <td>0.0</td>\n",
       "      <td>6.0</td>\n",
       "    </tr>\n",
       "    <tr>\n",
       "      <th>3</th>\n",
       "      <td>0.00</td>\n",
       "      <td>0.0</td>\n",
       "      <td>1.0</td>\n",
       "      <td>4.0</td>\n",
       "    </tr>\n",
       "    <tr>\n",
       "      <th>4</th>\n",
       "      <td>0.00</td>\n",
       "      <td>2.0</td>\n",
       "      <td>0.0</td>\n",
       "      <td>3.0</td>\n",
       "    </tr>\n",
       "    <tr>\n",
       "      <th>...</th>\n",
       "      <td>...</td>\n",
       "      <td>...</td>\n",
       "      <td>...</td>\n",
       "      <td>...</td>\n",
       "    </tr>\n",
       "    <tr>\n",
       "      <th>995</th>\n",
       "      <td>29.05</td>\n",
       "      <td>0.0</td>\n",
       "      <td>0.0</td>\n",
       "      <td>2.0</td>\n",
       "    </tr>\n",
       "    <tr>\n",
       "      <th>996</th>\n",
       "      <td>25.60</td>\n",
       "      <td>5.0</td>\n",
       "      <td>0.0</td>\n",
       "      <td>2.0</td>\n",
       "    </tr>\n",
       "    <tr>\n",
       "      <th>997</th>\n",
       "      <td>54.55</td>\n",
       "      <td>33.0</td>\n",
       "      <td>0.0</td>\n",
       "      <td>6.0</td>\n",
       "    </tr>\n",
       "    <tr>\n",
       "      <th>998</th>\n",
       "      <td>0.00</td>\n",
       "      <td>22.0</td>\n",
       "      <td>0.0</td>\n",
       "      <td>6.0</td>\n",
       "    </tr>\n",
       "    <tr>\n",
       "      <th>999</th>\n",
       "      <td>33.60</td>\n",
       "      <td>3.0</td>\n",
       "      <td>1.0</td>\n",
       "      <td>4.0</td>\n",
       "    </tr>\n",
       "  </tbody>\n",
       "</table>\n",
       "<p>1000 rows × 4 columns</p>\n",
       "</div>"
      ],
      "text/plain": [
       "     equipmon  employ  churn  tenure_chaid\n",
       "0        0.00     5.0    1.0           2.0\n",
       "1        0.00     5.0    1.0           2.0\n",
       "2        0.00    29.0    0.0           6.0\n",
       "3        0.00     0.0    1.0           4.0\n",
       "4        0.00     2.0    0.0           3.0\n",
       "..        ...     ...    ...           ...\n",
       "995     29.05     0.0    0.0           2.0\n",
       "996     25.60     5.0    0.0           2.0\n",
       "997     54.55    33.0    0.0           6.0\n",
       "998      0.00    22.0    0.0           6.0\n",
       "999     33.60     3.0    1.0           4.0\n",
       "\n",
       "[1000 rows x 4 columns]"
      ]
     },
     "execution_count": 221,
     "metadata": {},
     "output_type": "execute_result"
    }
   ],
   "source": [
    "df_variables = df[[\"equipmon\",\"employ\", \"churn\", \"tenure_chaid\"]]\n",
    "df_variables"
   ]
  },
  {
   "cell_type": "code",
   "execution_count": 215,
   "metadata": {},
   "outputs": [
    {
     "name": "stderr",
     "output_type": "stream",
     "text": [
      "C:\\Users\\THINKPAD\\Anaconda3\\lib\\site-packages\\ipykernel_launcher.py:1: SettingWithCopyWarning: \n",
      "A value is trying to be set on a copy of a slice from a DataFrame.\n",
      "Try using .loc[row_indexer,col_indexer] = value instead\n",
      "\n",
      "See the caveats in the documentation: https://pandas.pydata.org/pandas-docs/stable/user_guide/indexing.html#returning-a-view-versus-a-copy\n",
      "  \"\"\"Entry point for launching an IPython kernel.\n"
     ]
    }
   ],
   "source": [
    "df_variables['tenure_chaid'] = df_variables['tenure_chaid'].astype('category')\n",
    "df_variables = pd.get_dummies(df_variables)\n"
   ]
  },
  {
   "cell_type": "code",
   "execution_count": 216,
   "metadata": {},
   "outputs": [
    {
     "data": {
      "text/html": [
       "<div>\n",
       "<style scoped>\n",
       "    .dataframe tbody tr th:only-of-type {\n",
       "        vertical-align: middle;\n",
       "    }\n",
       "\n",
       "    .dataframe tbody tr th {\n",
       "        vertical-align: top;\n",
       "    }\n",
       "\n",
       "    .dataframe thead th {\n",
       "        text-align: right;\n",
       "    }\n",
       "</style>\n",
       "<table border=\"1\" class=\"dataframe\">\n",
       "  <thead>\n",
       "    <tr style=\"text-align: right;\">\n",
       "      <th></th>\n",
       "      <th>equipmon</th>\n",
       "      <th>employ</th>\n",
       "      <th>lninc</th>\n",
       "      <th>churn</th>\n",
       "      <th>tenure_chaid_1.0</th>\n",
       "      <th>tenure_chaid_2.0</th>\n",
       "      <th>tenure_chaid_3.0</th>\n",
       "      <th>tenure_chaid_4.0</th>\n",
       "      <th>tenure_chaid_5.0</th>\n",
       "      <th>tenure_chaid_6.0</th>\n",
       "    </tr>\n",
       "  </thead>\n",
       "  <tbody>\n",
       "    <tr>\n",
       "      <th>equipmon</th>\n",
       "      <td>1.000000</td>\n",
       "      <td>-0.161108</td>\n",
       "      <td>0.042885</td>\n",
       "      <td>0.253659</td>\n",
       "      <td>0.023641</td>\n",
       "      <td>0.052124</td>\n",
       "      <td>0.028754</td>\n",
       "      <td>-0.044680</td>\n",
       "      <td>0.009011</td>\n",
       "      <td>-0.058712</td>\n",
       "    </tr>\n",
       "    <tr>\n",
       "      <th>employ</th>\n",
       "      <td>-0.161108</td>\n",
       "      <td>1.000000</td>\n",
       "      <td>0.633616</td>\n",
       "      <td>-0.274213</td>\n",
       "      <td>-0.224072</td>\n",
       "      <td>-0.180616</td>\n",
       "      <td>-0.171453</td>\n",
       "      <td>-0.029692</td>\n",
       "      <td>0.210683</td>\n",
       "      <td>0.403622</td>\n",
       "    </tr>\n",
       "    <tr>\n",
       "      <th>lninc</th>\n",
       "      <td>0.042885</td>\n",
       "      <td>0.633616</td>\n",
       "      <td>1.000000</td>\n",
       "      <td>-0.104648</td>\n",
       "      <td>-0.174548</td>\n",
       "      <td>-0.119545</td>\n",
       "      <td>-0.084492</td>\n",
       "      <td>-0.002189</td>\n",
       "      <td>0.150737</td>\n",
       "      <td>0.211599</td>\n",
       "    </tr>\n",
       "    <tr>\n",
       "      <th>churn</th>\n",
       "      <td>0.253659</td>\n",
       "      <td>-0.274213</td>\n",
       "      <td>-0.104648</td>\n",
       "      <td>1.000000</td>\n",
       "      <td>0.258755</td>\n",
       "      <td>0.164521</td>\n",
       "      <td>0.094698</td>\n",
       "      <td>-0.083210</td>\n",
       "      <td>-0.176657</td>\n",
       "      <td>-0.187414</td>\n",
       "    </tr>\n",
       "    <tr>\n",
       "      <th>tenure_chaid_1.0</th>\n",
       "      <td>0.023641</td>\n",
       "      <td>-0.224072</td>\n",
       "      <td>-0.174548</td>\n",
       "      <td>0.258755</td>\n",
       "      <td>1.000000</td>\n",
       "      <td>-0.110842</td>\n",
       "      <td>-0.160606</td>\n",
       "      <td>-0.213128</td>\n",
       "      <td>-0.157098</td>\n",
       "      <td>-0.105547</td>\n",
       "    </tr>\n",
       "    <tr>\n",
       "      <th>tenure_chaid_2.0</th>\n",
       "      <td>0.052124</td>\n",
       "      <td>-0.180616</td>\n",
       "      <td>-0.119545</td>\n",
       "      <td>0.164521</td>\n",
       "      <td>-0.110842</td>\n",
       "      <td>1.000000</td>\n",
       "      <td>-0.173616</td>\n",
       "      <td>-0.230393</td>\n",
       "      <td>-0.169824</td>\n",
       "      <td>-0.114097</td>\n",
       "    </tr>\n",
       "    <tr>\n",
       "      <th>tenure_chaid_3.0</th>\n",
       "      <td>0.028754</td>\n",
       "      <td>-0.171453</td>\n",
       "      <td>-0.084492</td>\n",
       "      <td>0.094698</td>\n",
       "      <td>-0.160606</td>\n",
       "      <td>-0.173616</td>\n",
       "      <td>1.000000</td>\n",
       "      <td>-0.333831</td>\n",
       "      <td>-0.246070</td>\n",
       "      <td>-0.165323</td>\n",
       "    </tr>\n",
       "    <tr>\n",
       "      <th>tenure_chaid_4.0</th>\n",
       "      <td>-0.044680</td>\n",
       "      <td>-0.029692</td>\n",
       "      <td>-0.002189</td>\n",
       "      <td>-0.083210</td>\n",
       "      <td>-0.213128</td>\n",
       "      <td>-0.230393</td>\n",
       "      <td>-0.333831</td>\n",
       "      <td>1.000000</td>\n",
       "      <td>-0.326540</td>\n",
       "      <td>-0.219388</td>\n",
       "    </tr>\n",
       "    <tr>\n",
       "      <th>tenure_chaid_5.0</th>\n",
       "      <td>0.009011</td>\n",
       "      <td>0.210683</td>\n",
       "      <td>0.150737</td>\n",
       "      <td>-0.176657</td>\n",
       "      <td>-0.157098</td>\n",
       "      <td>-0.169824</td>\n",
       "      <td>-0.246070</td>\n",
       "      <td>-0.326540</td>\n",
       "      <td>1.000000</td>\n",
       "      <td>-0.161712</td>\n",
       "    </tr>\n",
       "    <tr>\n",
       "      <th>tenure_chaid_6.0</th>\n",
       "      <td>-0.058712</td>\n",
       "      <td>0.403622</td>\n",
       "      <td>0.211599</td>\n",
       "      <td>-0.187414</td>\n",
       "      <td>-0.105547</td>\n",
       "      <td>-0.114097</td>\n",
       "      <td>-0.165323</td>\n",
       "      <td>-0.219388</td>\n",
       "      <td>-0.161712</td>\n",
       "      <td>1.000000</td>\n",
       "    </tr>\n",
       "  </tbody>\n",
       "</table>\n",
       "</div>"
      ],
      "text/plain": [
       "                  equipmon    employ     lninc     churn  tenure_chaid_1.0  \\\n",
       "equipmon          1.000000 -0.161108  0.042885  0.253659          0.023641   \n",
       "employ           -0.161108  1.000000  0.633616 -0.274213         -0.224072   \n",
       "lninc             0.042885  0.633616  1.000000 -0.104648         -0.174548   \n",
       "churn             0.253659 -0.274213 -0.104648  1.000000          0.258755   \n",
       "tenure_chaid_1.0  0.023641 -0.224072 -0.174548  0.258755          1.000000   \n",
       "tenure_chaid_2.0  0.052124 -0.180616 -0.119545  0.164521         -0.110842   \n",
       "tenure_chaid_3.0  0.028754 -0.171453 -0.084492  0.094698         -0.160606   \n",
       "tenure_chaid_4.0 -0.044680 -0.029692 -0.002189 -0.083210         -0.213128   \n",
       "tenure_chaid_5.0  0.009011  0.210683  0.150737 -0.176657         -0.157098   \n",
       "tenure_chaid_6.0 -0.058712  0.403622  0.211599 -0.187414         -0.105547   \n",
       "\n",
       "                  tenure_chaid_2.0  tenure_chaid_3.0  tenure_chaid_4.0  \\\n",
       "equipmon                  0.052124          0.028754         -0.044680   \n",
       "employ                   -0.180616         -0.171453         -0.029692   \n",
       "lninc                    -0.119545         -0.084492         -0.002189   \n",
       "churn                     0.164521          0.094698         -0.083210   \n",
       "tenure_chaid_1.0         -0.110842         -0.160606         -0.213128   \n",
       "tenure_chaid_2.0          1.000000         -0.173616         -0.230393   \n",
       "tenure_chaid_3.0         -0.173616          1.000000         -0.333831   \n",
       "tenure_chaid_4.0         -0.230393         -0.333831          1.000000   \n",
       "tenure_chaid_5.0         -0.169824         -0.246070         -0.326540   \n",
       "tenure_chaid_6.0         -0.114097         -0.165323         -0.219388   \n",
       "\n",
       "                  tenure_chaid_5.0  tenure_chaid_6.0  \n",
       "equipmon                  0.009011         -0.058712  \n",
       "employ                    0.210683          0.403622  \n",
       "lninc                     0.150737          0.211599  \n",
       "churn                    -0.176657         -0.187414  \n",
       "tenure_chaid_1.0         -0.157098         -0.105547  \n",
       "tenure_chaid_2.0         -0.169824         -0.114097  \n",
       "tenure_chaid_3.0         -0.246070         -0.165323  \n",
       "tenure_chaid_4.0         -0.326540         -0.219388  \n",
       "tenure_chaid_5.0          1.000000         -0.161712  \n",
       "tenure_chaid_6.0         -0.161712          1.000000  "
      ]
     },
     "execution_count": 216,
     "metadata": {},
     "output_type": "execute_result"
    }
   ],
   "source": [
    "df_variables.corr()"
   ]
  },
  {
   "cell_type": "markdown",
   "metadata": {},
   "source": [
    "employ-t lehet érdemes eldobni"
   ]
  },
  {
   "cell_type": "code",
   "execution_count": 178,
   "metadata": {},
   "outputs": [],
   "source": [
    "from sklearn.linear_model import LogisticRegression\n",
    "from sklearn import metrics\n",
    "from sklearn.model_selection import train_test_split\n",
    "\n",
    "\n",
    "target = df['churn']\n",
    "features = df[['lninc', 'employ', 'equipmon', 'tenure_chaid']]\n",
    "X_train, X_test, y_train, y_test = train_test_split(features, target, test_size=0.4, random_state=10)"
   ]
  },
  {
   "cell_type": "code",
   "execution_count": 179,
   "metadata": {},
   "outputs": [
    {
     "data": {
      "text/plain": [
       "LogisticRegression()"
      ]
     },
     "execution_count": 179,
     "metadata": {},
     "output_type": "execute_result"
    }
   ],
   "source": [
    "logreg = LogisticRegression() \n",
    "#ha üresen hagyom a LogisticRegression-t, akkor a normal csoportba sorol mindenkit\n",
    "#balanced segít súlyozni azokat az értékeket, amik kisebb arányban vannak\n",
    "#class_weight = \"balanced\"\n",
    "logreg.fit(X_train, y_train)"
   ]
  },
  {
   "cell_type": "code",
   "execution_count": 180,
   "metadata": {},
   "outputs": [],
   "source": [
    "y_pred = logreg.predict(X_test)"
   ]
  },
  {
   "cell_type": "code",
   "execution_count": 202,
   "metadata": {},
   "outputs": [
    {
     "name": "stdout",
     "output_type": "stream",
     "text": [
      "Optimization terminated successfully.\n",
      "         Current function value: 0.474829\n",
      "         Iterations 8\n"
     ]
    },
    {
     "data": {
      "text/html": [
       "<table class=\"simpletable\">\n",
       "<caption>Logit Regression Results</caption>\n",
       "<tr>\n",
       "  <th>Dep. Variable:</th>         <td>churn</td>      <th>  No. Observations:  </th>  <td>  1000</td>  \n",
       "</tr>\n",
       "<tr>\n",
       "  <th>Model:</th>                 <td>Logit</td>      <th>  Df Residuals:      </th>  <td>   992</td>  \n",
       "</tr>\n",
       "<tr>\n",
       "  <th>Method:</th>                 <td>MLE</td>       <th>  Df Model:          </th>  <td>     7</td>  \n",
       "</tr>\n",
       "<tr>\n",
       "  <th>Date:</th>            <td>Wed, 05 May 2021</td> <th>  Pseudo R-squ.:     </th>  <td>0.1914</td>  \n",
       "</tr>\n",
       "<tr>\n",
       "  <th>Time:</th>                <td>16:13:20</td>     <th>  Log-Likelihood:    </th> <td> -474.83</td> \n",
       "</tr>\n",
       "<tr>\n",
       "  <th>converged:</th>             <td>True</td>       <th>  LL-Null:           </th> <td> -587.20</td> \n",
       "</tr>\n",
       "<tr>\n",
       "  <th>Covariance Type:</th>     <td>nonrobust</td>    <th>  LLR p-value:       </th> <td>6.518e-45</td>\n",
       "</tr>\n",
       "</table>\n",
       "<table class=\"simpletable\">\n",
       "<tr>\n",
       "             <td></td>               <th>coef</th>     <th>std err</th>      <th>z</th>      <th>P>|z|</th>  <th>[0.025</th>    <th>0.975]</th>  \n",
       "</tr>\n",
       "<tr>\n",
       "  <th>Intercept</th>              <td>    0.0612</td> <td>    0.448</td> <td>    0.137</td> <td> 0.891</td> <td>   -0.817</td> <td>    0.940</td>\n",
       "</tr>\n",
       "<tr>\n",
       "  <th>C(tenure_chaid)[T.2.0]</th> <td>   -0.6872</td> <td>    0.300</td> <td>   -2.291</td> <td> 0.022</td> <td>   -1.275</td> <td>   -0.099</td>\n",
       "</tr>\n",
       "<tr>\n",
       "  <th>C(tenure_chaid)[T.3.0]</th> <td>   -1.2019</td> <td>    0.272</td> <td>   -4.418</td> <td> 0.000</td> <td>   -1.735</td> <td>   -0.669</td>\n",
       "</tr>\n",
       "<tr>\n",
       "  <th>C(tenure_chaid)[T.4.0]</th> <td>   -1.8781</td> <td>    0.270</td> <td>   -6.965</td> <td> 0.000</td> <td>   -2.407</td> <td>   -1.350</td>\n",
       "</tr>\n",
       "<tr>\n",
       "  <th>C(tenure_chaid)[T.5.0]</th> <td>   -2.7941</td> <td>    0.334</td> <td>   -8.363</td> <td> 0.000</td> <td>   -3.449</td> <td>   -2.139</td>\n",
       "</tr>\n",
       "<tr>\n",
       "  <th>C(tenure_chaid)[T.6.0]</th> <td>   -4.5586</td> <td>    0.765</td> <td>   -5.956</td> <td> 0.000</td> <td>   -6.059</td> <td>   -3.058</td>\n",
       "</tr>\n",
       "<tr>\n",
       "  <th>lninc</th>                  <td>    0.0071</td> <td>    0.112</td> <td>    0.064</td> <td> 0.949</td> <td>   -0.212</td> <td>    0.226</td>\n",
       "</tr>\n",
       "<tr>\n",
       "  <th>equipmon</th>               <td>    0.0319</td> <td>    0.004</td> <td>    7.730</td> <td> 0.000</td> <td>    0.024</td> <td>    0.040</td>\n",
       "</tr>\n",
       "</table>"
      ],
      "text/plain": [
       "<class 'statsmodels.iolib.summary.Summary'>\n",
       "\"\"\"\n",
       "                           Logit Regression Results                           \n",
       "==============================================================================\n",
       "Dep. Variable:                  churn   No. Observations:                 1000\n",
       "Model:                          Logit   Df Residuals:                      992\n",
       "Method:                           MLE   Df Model:                            7\n",
       "Date:                Wed, 05 May 2021   Pseudo R-squ.:                  0.1914\n",
       "Time:                        16:13:20   Log-Likelihood:                -474.83\n",
       "converged:                       True   LL-Null:                       -587.20\n",
       "Covariance Type:            nonrobust   LLR p-value:                 6.518e-45\n",
       "==========================================================================================\n",
       "                             coef    std err          z      P>|z|      [0.025      0.975]\n",
       "------------------------------------------------------------------------------------------\n",
       "Intercept                  0.0612      0.448      0.137      0.891      -0.817       0.940\n",
       "C(tenure_chaid)[T.2.0]    -0.6872      0.300     -2.291      0.022      -1.275      -0.099\n",
       "C(tenure_chaid)[T.3.0]    -1.2019      0.272     -4.418      0.000      -1.735      -0.669\n",
       "C(tenure_chaid)[T.4.0]    -1.8781      0.270     -6.965      0.000      -2.407      -1.350\n",
       "C(tenure_chaid)[T.5.0]    -2.7941      0.334     -8.363      0.000      -3.449      -2.139\n",
       "C(tenure_chaid)[T.6.0]    -4.5586      0.765     -5.956      0.000      -6.059      -3.058\n",
       "lninc                      0.0071      0.112      0.064      0.949      -0.212       0.226\n",
       "equipmon                   0.0319      0.004      7.730      0.000       0.024       0.040\n",
       "==========================================================================================\n",
       "\"\"\""
      ]
     },
     "execution_count": 202,
     "metadata": {},
     "output_type": "execute_result"
    }
   ],
   "source": [
    "model= smf.logit(formula=\"churn~ lninc + equipmon + C(tenure_chaid)\", data= df).fit()\n",
    "model.summary()"
   ]
  },
  {
   "cell_type": "code",
   "execution_count": 181,
   "metadata": {},
   "outputs": [
    {
     "name": "stdout",
     "output_type": "stream",
     "text": [
      "Number of parameters: 5\n",
      "MSE: 0.240\n",
      "AIC: -560.847\n"
     ]
    }
   ],
   "source": [
    "from math import log\n",
    "from sklearn.metrics import mean_squared_error\n",
    " \n",
    "def calculate_aic(n, mse, num_params):\n",
    "    aic = n * log(mse) + 2 * num_params\n",
    "    return aic\n",
    "\n",
    "num_params = len(logreg.coef_[0]) + 1\n",
    "print('Number of parameters: %d' % (num_params))\n",
    "\n",
    "# calculate the error\n",
    "mse = mean_squared_error(y_test, y_pred)\n",
    "print('MSE: %.3f' % mse)\n",
    "\n",
    "aic = calculate_aic(len(y_test), mse, num_params)\n",
    "print('AIC: %.3f' % aic)"
   ]
  },
  {
   "cell_type": "code",
   "execution_count": 182,
   "metadata": {},
   "outputs": [
    {
     "name": "stdout",
     "output_type": "stream",
     "text": [
      "BIC: -540.889\n"
     ]
    }
   ],
   "source": [
    "# calculate bic for regression\n",
    "def calculate_bic(n, mse, num_params):\n",
    "    bic = n * log(mse) + num_params * log(n)\n",
    "    return bic\n",
    "\n",
    "bic = calculate_bic(len(y_test), mse, num_params)\n",
    "print('BIC: %.3f' % bic)"
   ]
  },
  {
   "cell_type": "code",
   "execution_count": 170,
   "metadata": {},
   "outputs": [
    {
     "name": "stdout",
     "output_type": "stream",
     "text": [
      "[[249  38]\n",
      " [ 62  51]]\n"
     ]
    }
   ],
   "source": [
    "from sklearn.metrics import confusion_matrix\n",
    "confusion_matrix = confusion_matrix(y_test, y_pred)\n",
    "print(confusion_matrix)"
   ]
  },
  {
   "cell_type": "code",
   "execution_count": 121,
   "metadata": {},
   "outputs": [
    {
     "name": "stdout",
     "output_type": "stream",
     "text": [
      "Accuracy :  0.75\n",
      "Sensitivity :  0.867595818815331\n",
      "Specificity :  0.45132743362831856\n"
     ]
    }
   ],
   "source": [
    "total=sum(sum(confusion_matrix))\n",
    "#####from confusion matrix calculate accuracy\n",
    "accuracy=(confusion_matrix[0,0]+confusion_matrix[1,1])/total\n",
    "print ('Accuracy : ', accuracy)\n",
    "\n",
    "sensitivity = confusion_matrix[0,0]/(confusion_matrix[0,0]+confusion_matrix[0,1])\n",
    "print('Sensitivity : ', sensitivity )\n",
    "\n",
    "specificity = confusion_matrix[1,1]/(confusion_matrix[1,0]+confusion_matrix[1,1])\n",
    "print('Specificity : ', specificity)"
   ]
  },
  {
   "cell_type": "code",
   "execution_count": 130,
   "metadata": {},
   "outputs": [
    {
     "ename": "TypeError",
     "evalue": "'numpy.ndarray' object is not callable",
     "output_type": "error",
     "traceback": [
      "\u001b[1;31m---------------------------------------------------------------------------\u001b[0m",
      "\u001b[1;31mTypeError\u001b[0m                                 Traceback (most recent call last)",
      "\u001b[1;32m<ipython-input-130-cba744f2a578>\u001b[0m in \u001b[0;36m<module>\u001b[1;34m\u001b[0m\n\u001b[0;32m      5\u001b[0m \u001b[0mlogreg_ch\u001b[0m\u001b[1;33m.\u001b[0m\u001b[0mfit\u001b[0m\u001b[1;33m(\u001b[0m\u001b[0mX_train_ch\u001b[0m\u001b[1;33m,\u001b[0m \u001b[0my_train_ch\u001b[0m\u001b[1;33m)\u001b[0m\u001b[1;33m\u001b[0m\u001b[1;33m\u001b[0m\u001b[0m\n\u001b[0;32m      6\u001b[0m \u001b[0my_pred_ch\u001b[0m \u001b[1;33m=\u001b[0m \u001b[0mlogreg_ch\u001b[0m\u001b[1;33m.\u001b[0m\u001b[0mpredict\u001b[0m\u001b[1;33m(\u001b[0m\u001b[0mX_test_ch\u001b[0m\u001b[1;33m)\u001b[0m\u001b[1;33m\u001b[0m\u001b[1;33m\u001b[0m\u001b[0m\n\u001b[1;32m----> 7\u001b[1;33m \u001b[0mconfusion_matrix_ch\u001b[0m \u001b[1;33m=\u001b[0m \u001b[0mconfusion_matrix\u001b[0m\u001b[1;33m(\u001b[0m\u001b[0my_test_ch\u001b[0m\u001b[1;33m,\u001b[0m \u001b[0my_pred_ch\u001b[0m\u001b[1;33m)\u001b[0m\u001b[1;33m\u001b[0m\u001b[1;33m\u001b[0m\u001b[0m\n\u001b[0m\u001b[0;32m      8\u001b[0m \u001b[0mprint\u001b[0m\u001b[1;33m(\u001b[0m\u001b[0mconfusion_matrix_ch\u001b[0m\u001b[1;33m)\u001b[0m\u001b[1;33m\u001b[0m\u001b[1;33m\u001b[0m\u001b[0m\n\u001b[0;32m      9\u001b[0m \u001b[0mtotal_ch\u001b[0m\u001b[1;33m=\u001b[0m\u001b[0msum\u001b[0m\u001b[1;33m(\u001b[0m\u001b[0msum\u001b[0m\u001b[1;33m(\u001b[0m\u001b[0mconfusion_matrix_ch\u001b[0m\u001b[1;33m)\u001b[0m\u001b[1;33m)\u001b[0m\u001b[1;33m\u001b[0m\u001b[1;33m\u001b[0m\u001b[0m\n",
      "\u001b[1;31mTypeError\u001b[0m: 'numpy.ndarray' object is not callable"
     ]
    }
   ],
   "source": [
    "target_ch = df['churn']\n",
    "features_ch = df[['lninc', 'employ', 'equipmon', 'tenure_chaid']]\n",
    "X_train_ch, X_test_ch, y_train_ch, y_test_ch = train_test_split(features_ch, target_ch, test_size=0.4, random_state=10)\n",
    "logreg_ch = LogisticRegression()\n",
    "logreg_ch.fit(X_train_ch, y_train_ch)\n",
    "y_pred_ch = logreg_ch.predict(X_test_ch)\n",
    "confusion_matrix_ch = confusion_matrix(y_test_ch, y_pred_ch)\n",
    "print(confusion_matrix_ch)\n",
    "total_ch=sum(sum(confusion_matrix_ch))\n",
    "accuracy_ch=(confusion_matrix_ch[0,0]+confusion_matrix_ch[1,1])/total_ch\n",
    "print ('Accuracy : ', accuracy_ch)\n",
    "sensitivity_ch = confusion_matrix_ch[0,0]/(confusion_matrix_ch[0,0]+confusion_matrix_ch[0,1])\n",
    "print('Sensitivity : ', sensitivity_ch )\n",
    "specificity_ch = confusion_matrix_ch[1,1]/(confusion_matrix_ch[1,0]+confusion_matrix_ch[1,1])\n",
    "print('Specificity : ', specificity_ch)"
   ]
  },
  {
   "cell_type": "code",
   "execution_count": 131,
   "metadata": {},
   "outputs": [
    {
     "ename": "TypeError",
     "evalue": "'numpy.ndarray' object is not callable",
     "output_type": "error",
     "traceback": [
      "\u001b[1;31m---------------------------------------------------------------------------\u001b[0m",
      "\u001b[1;31mTypeError\u001b[0m                                 Traceback (most recent call last)",
      "\u001b[1;32m<ipython-input-131-95a3756cb544>\u001b[0m in \u001b[0;36m<module>\u001b[1;34m\u001b[0m\n\u001b[0;32m      5\u001b[0m \u001b[0mlogreg_con\u001b[0m\u001b[1;33m.\u001b[0m\u001b[0mfit\u001b[0m\u001b[1;33m(\u001b[0m\u001b[0mX_train_con\u001b[0m\u001b[1;33m,\u001b[0m \u001b[0my_train_con\u001b[0m\u001b[1;33m)\u001b[0m\u001b[1;33m\u001b[0m\u001b[1;33m\u001b[0m\u001b[0m\n\u001b[0;32m      6\u001b[0m \u001b[0my_pred_con\u001b[0m \u001b[1;33m=\u001b[0m \u001b[0mlogreg_con\u001b[0m\u001b[1;33m.\u001b[0m\u001b[0mpredict\u001b[0m\u001b[1;33m(\u001b[0m\u001b[0mX_test_con\u001b[0m\u001b[1;33m)\u001b[0m\u001b[1;33m\u001b[0m\u001b[1;33m\u001b[0m\u001b[0m\n\u001b[1;32m----> 7\u001b[1;33m \u001b[0mconfusion_matrix_con\u001b[0m \u001b[1;33m=\u001b[0m \u001b[0mconfusion_matrix\u001b[0m\u001b[1;33m(\u001b[0m\u001b[0my_test_con\u001b[0m\u001b[1;33m,\u001b[0m \u001b[0my_pred_con\u001b[0m\u001b[1;33m)\u001b[0m\u001b[1;33m\u001b[0m\u001b[1;33m\u001b[0m\u001b[0m\n\u001b[0m\u001b[0;32m      8\u001b[0m \u001b[0mprint\u001b[0m\u001b[1;33m(\u001b[0m\u001b[0mconfusion_matrix_con\u001b[0m\u001b[1;33m)\u001b[0m\u001b[1;33m\u001b[0m\u001b[1;33m\u001b[0m\u001b[0m\n\u001b[0;32m      9\u001b[0m \u001b[0mtotal_con\u001b[0m\u001b[1;33m=\u001b[0m\u001b[0msum\u001b[0m\u001b[1;33m(\u001b[0m\u001b[0msum\u001b[0m\u001b[1;33m(\u001b[0m\u001b[0mconfusion_matrix_con\u001b[0m\u001b[1;33m)\u001b[0m\u001b[1;33m)\u001b[0m\u001b[1;33m\u001b[0m\u001b[1;33m\u001b[0m\u001b[0m\n",
      "\u001b[1;31mTypeError\u001b[0m: 'numpy.ndarray' object is not callable"
     ]
    }
   ],
   "source": [
    "target_con = df['churn']\n",
    "features_con = df[['lninc', 'employ', 'equipmon', 'tenure']]\n",
    "X_train_con, X_test_con, y_train_con, y_test_con = train_test_split(features_con, target_con, test_size=0.4, random_state=10)\n",
    "logreg_con = LogisticRegression()\n",
    "logreg_con.fit(X_train_con, y_train_con)\n",
    "y_pred_con = logreg_con.predict(X_test_con)\n",
    "confusion_matrix_con = confusion_matrix(y_test_con, y_pred_con)\n",
    "print(confusion_matrix_con)\n",
    "total_con=sum(sum(confusion_matrix_con))\n",
    "accuracy_con=(confusion_matrix_con[0,0]+confusion_matrix_con[1,1])/total_con\n",
    "print ('Accuracy : ', accuracy_con)\n",
    "sensitivity_con = confusion_matrix_con[0,0]/(confusion_matrix_con[0,0]+confusion_matrix_con[0,1])\n",
    "print('Sensitivity : ', sensitivity_con)\n",
    "specificity_con = confusion_matrix_con[1,1]/(confusion_matrix_con[1,0]+confusion_matrix_con[1,1])\n",
    "print('Specificity : ', specificity_con)"
   ]
  },
  {
   "cell_type": "code",
   "execution_count": 134,
   "metadata": {},
   "outputs": [
    {
     "name": "stdout",
     "output_type": "stream",
     "text": [
      "No Skill: ROC AUC=0.500\n",
      "Logistic: ROC AUC=0.760\n",
      "Logistic_CHAID: ROC AUC=0.772\n",
      "Logistic_continuous: ROC AUC=0.766\n"
     ]
    },
    {
     "data": {
      "text/plain": [
       "<matplotlib.legend.Legend at 0x274510df668>"
      ]
     },
     "execution_count": 134,
     "metadata": {},
     "output_type": "execute_result"
    },
    {
     "data": {
      "image/png": "[encoded data removed]",
      "text/plain": [
       "<Figure size 432x288 with 1 Axes>"
      ]
     },
     "metadata": {
      "needs_background": "light"
     },
     "output_type": "display_data"
    }
   ],
   "source": [
    "from sklearn.metrics import roc_curve\n",
    "from sklearn.metrics import roc_auc_score\n",
    "from matplotlib import pyplot\n",
    "\n",
    "ns_probs = [0 for _ in range(len(y_test))]\n",
    "# predict probabilities\n",
    "lr_probs = logreg.predict_proba(X_test)\n",
    "lr_probs_ch = logreg_ch.predict_proba(X_test_ch)\n",
    "lr_probs_con = logreg_con.predict_proba(X_test_con)\n",
    "\n",
    "\n",
    "# keep probabilities for the positive outcome only\n",
    "lr_probs = lr_probs[:, 1]\n",
    "lr_probs_ch = lr_probs_ch[:, 1]\n",
    "lr_probs_con = lr_probs_con[:, 1]\n",
    "\n",
    "\n",
    "# calculate scores\n",
    "ns_auc = roc_auc_score(y_test, ns_probs)\n",
    "lr_auc = roc_auc_score(y_test, lr_probs)\n",
    "lr_auc_ch = roc_auc_score(y_test_ch, lr_probs_ch)\n",
    "lr_auc_con = roc_auc_score(y_test_con, lr_probs_con)\n",
    "\n",
    "# summarize scores\n",
    "print('No Skill: ROC AUC=%.3f' % (ns_auc))\n",
    "print('Logistic: ROC AUC=%.3f' % (lr_auc))\n",
    "print('Logistic_CHAID: ROC AUC=%.3f' % (lr_auc_ch))\n",
    "print('Logistic_continuous: ROC AUC=%.3f' % (lr_auc_con))\n",
    "\n",
    "\n",
    "# calculate roc curves\n",
    "ns_fpr, ns_tpr, _ = roc_curve(y_test, ns_probs)\n",
    "lr_fpr, lr_tpr, _ = roc_curve(y_test, lr_probs)\n",
    "lr_fpr_ch, lr_tpr_ch, _ = roc_curve(y_test_ch, lr_probs_ch)\n",
    "lr_fpr_con, lr_tpr_con, _ = roc_curve(y_test_con, lr_probs_con)\n",
    "\n",
    "# plot the roc curve for the model\n",
    "pyplot.plot(ns_fpr, ns_tpr, linestyle='--', label='No Skill')\n",
    "pyplot.plot(lr_fpr, lr_tpr, marker='.', label='Logistic_bin4')\n",
    "pyplot.plot(lr_fpr_ch, lr_tpr_ch, marker='.', label='Logistic_chaid', color = \"green\")\n",
    "pyplot.plot(lr_fpr_con, lr_tpr_con, marker='.', label='Logistic_con', color = \"blue\")\n",
    "\n",
    "\n",
    "# axis labels\n",
    "pyplot.xlabel('False Positive Rate')\n",
    "pyplot.ylabel('True Positive Rate')\n",
    "# show the legend\n",
    "pyplot.legend()"
   ]
  },
  {
   "cell_type": "code",
   "execution_count": null,
   "metadata": {},
   "outputs": [],
   "source": []
  }
 ],
 "metadata": {
  "kernelspec": {
   "display_name": "Python 3",
   "language": "python",
   "name": "python3"
  },
  "language_info": {
   "codemirror_mode": {
    "name": "ipython",
    "version": 3
   },
   "file_extension": ".py",
   "mimetype": "text/x-python",
   "name": "python",
   "nbconvert_exporter": "python",
   "pygments_lexer": "ipython3",
   "version": "3.6.8"
  }
 },
 "nbformat": 4,
 "nbformat_minor": 2
}
