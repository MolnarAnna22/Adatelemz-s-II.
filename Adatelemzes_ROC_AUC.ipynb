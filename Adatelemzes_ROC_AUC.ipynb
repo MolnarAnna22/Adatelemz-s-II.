{
 "cells": [
  {
   "cell_type": "code",
   "execution_count": 1,
   "metadata": {},
   "outputs": [],
   "source": [
    "from chefboost import Chefboost as chef\n",
    "import pandas as pd\n",
    "import pyreadstat\n",
    "\n",
    "df,meta = pyreadstat.read_sav(\"./telco_0507.sav\")"
   ]
  },
  {
   "cell_type": "code",
   "execution_count": 2,
   "metadata": {},
   "outputs": [
    {
     "data": {
      "text/html": [
       "<div>\n",
       "<style scoped>\n",
       "    .dataframe tbody tr th:only-of-type {\n",
       "        vertical-align: middle;\n",
       "    }\n",
       "\n",
       "    .dataframe tbody tr th {\n",
       "        vertical-align: top;\n",
       "    }\n",
       "\n",
       "    .dataframe thead th {\n",
       "        text-align: right;\n",
       "    }\n",
       "</style>\n",
       "<table border=\"1\" class=\"dataframe\">\n",
       "  <thead>\n",
       "    <tr style=\"text-align: right;\">\n",
       "      <th></th>\n",
       "      <th>region</th>\n",
       "      <th>tenure</th>\n",
       "      <th>age</th>\n",
       "      <th>marital</th>\n",
       "      <th>address</th>\n",
       "      <th>income</th>\n",
       "      <th>ed</th>\n",
       "      <th>employ</th>\n",
       "      <th>retire</th>\n",
       "      <th>gender</th>\n",
       "      <th>...</th>\n",
       "      <th>logwire</th>\n",
       "      <th>lninc</th>\n",
       "      <th>custcat</th>\n",
       "      <th>churn</th>\n",
       "      <th>tenure_chaid</th>\n",
       "      <th>tenure_bin2</th>\n",
       "      <th>tenure_bin3</th>\n",
       "      <th>tenure_bin4</th>\n",
       "      <th>tenure_bin5</th>\n",
       "      <th>tenure_bin10</th>\n",
       "    </tr>\n",
       "  </thead>\n",
       "  <tbody>\n",
       "    <tr>\n",
       "      <th>0</th>\n",
       "      <td>2.0</td>\n",
       "      <td>13.0</td>\n",
       "      <td>44.0</td>\n",
       "      <td>1.0</td>\n",
       "      <td>9.0</td>\n",
       "      <td>64.0</td>\n",
       "      <td>4.0</td>\n",
       "      <td>5.0</td>\n",
       "      <td>0.0</td>\n",
       "      <td>0.0</td>\n",
       "      <td>...</td>\n",
       "      <td>NaN</td>\n",
       "      <td>4.158883</td>\n",
       "      <td>1.0</td>\n",
       "      <td>1.0</td>\n",
       "      <td>2.0</td>\n",
       "      <td>1.0</td>\n",
       "      <td>1.0</td>\n",
       "      <td>1.0</td>\n",
       "      <td>1.0</td>\n",
       "      <td>2.0</td>\n",
       "    </tr>\n",
       "    <tr>\n",
       "      <th>1</th>\n",
       "      <td>3.0</td>\n",
       "      <td>11.0</td>\n",
       "      <td>33.0</td>\n",
       "      <td>1.0</td>\n",
       "      <td>7.0</td>\n",
       "      <td>136.0</td>\n",
       "      <td>5.0</td>\n",
       "      <td>5.0</td>\n",
       "      <td>0.0</td>\n",
       "      <td>0.0</td>\n",
       "      <td>...</td>\n",
       "      <td>3.575151</td>\n",
       "      <td>4.912655</td>\n",
       "      <td>4.0</td>\n",
       "      <td>1.0</td>\n",
       "      <td>2.0</td>\n",
       "      <td>1.0</td>\n",
       "      <td>1.0</td>\n",
       "      <td>1.0</td>\n",
       "      <td>1.0</td>\n",
       "      <td>2.0</td>\n",
       "    </tr>\n",
       "    <tr>\n",
       "      <th>2</th>\n",
       "      <td>3.0</td>\n",
       "      <td>68.0</td>\n",
       "      <td>52.0</td>\n",
       "      <td>1.0</td>\n",
       "      <td>24.0</td>\n",
       "      <td>116.0</td>\n",
       "      <td>1.0</td>\n",
       "      <td>29.0</td>\n",
       "      <td>0.0</td>\n",
       "      <td>1.0</td>\n",
       "      <td>...</td>\n",
       "      <td>NaN</td>\n",
       "      <td>4.753590</td>\n",
       "      <td>3.0</td>\n",
       "      <td>0.0</td>\n",
       "      <td>6.0</td>\n",
       "      <td>2.0</td>\n",
       "      <td>3.0</td>\n",
       "      <td>4.0</td>\n",
       "      <td>5.0</td>\n",
       "      <td>10.0</td>\n",
       "    </tr>\n",
       "    <tr>\n",
       "      <th>3</th>\n",
       "      <td>2.0</td>\n",
       "      <td>33.0</td>\n",
       "      <td>33.0</td>\n",
       "      <td>0.0</td>\n",
       "      <td>12.0</td>\n",
       "      <td>33.0</td>\n",
       "      <td>2.0</td>\n",
       "      <td>0.0</td>\n",
       "      <td>0.0</td>\n",
       "      <td>1.0</td>\n",
       "      <td>...</td>\n",
       "      <td>NaN</td>\n",
       "      <td>3.496508</td>\n",
       "      <td>1.0</td>\n",
       "      <td>1.0</td>\n",
       "      <td>4.0</td>\n",
       "      <td>1.0</td>\n",
       "      <td>2.0</td>\n",
       "      <td>2.0</td>\n",
       "      <td>3.0</td>\n",
       "      <td>5.0</td>\n",
       "    </tr>\n",
       "    <tr>\n",
       "      <th>4</th>\n",
       "      <td>2.0</td>\n",
       "      <td>23.0</td>\n",
       "      <td>30.0</td>\n",
       "      <td>1.0</td>\n",
       "      <td>9.0</td>\n",
       "      <td>30.0</td>\n",
       "      <td>1.0</td>\n",
       "      <td>2.0</td>\n",
       "      <td>0.0</td>\n",
       "      <td>0.0</td>\n",
       "      <td>...</td>\n",
       "      <td>NaN</td>\n",
       "      <td>3.401197</td>\n",
       "      <td>3.0</td>\n",
       "      <td>0.0</td>\n",
       "      <td>3.0</td>\n",
       "      <td>1.0</td>\n",
       "      <td>2.0</td>\n",
       "      <td>2.0</td>\n",
       "      <td>2.0</td>\n",
       "      <td>4.0</td>\n",
       "    </tr>\n",
       "    <tr>\n",
       "      <th>...</th>\n",
       "      <td>...</td>\n",
       "      <td>...</td>\n",
       "      <td>...</td>\n",
       "      <td>...</td>\n",
       "      <td>...</td>\n",
       "      <td>...</td>\n",
       "      <td>...</td>\n",
       "      <td>...</td>\n",
       "      <td>...</td>\n",
       "      <td>...</td>\n",
       "      <td>...</td>\n",
       "      <td>...</td>\n",
       "      <td>...</td>\n",
       "      <td>...</td>\n",
       "      <td>...</td>\n",
       "      <td>...</td>\n",
       "      <td>...</td>\n",
       "      <td>...</td>\n",
       "      <td>...</td>\n",
       "      <td>...</td>\n",
       "      <td>...</td>\n",
       "    </tr>\n",
       "    <tr>\n",
       "      <th>995</th>\n",
       "      <td>3.0</td>\n",
       "      <td>10.0</td>\n",
       "      <td>39.0</td>\n",
       "      <td>0.0</td>\n",
       "      <td>0.0</td>\n",
       "      <td>27.0</td>\n",
       "      <td>3.0</td>\n",
       "      <td>0.0</td>\n",
       "      <td>0.0</td>\n",
       "      <td>1.0</td>\n",
       "      <td>...</td>\n",
       "      <td>NaN</td>\n",
       "      <td>3.295837</td>\n",
       "      <td>1.0</td>\n",
       "      <td>0.0</td>\n",
       "      <td>2.0</td>\n",
       "      <td>1.0</td>\n",
       "      <td>1.0</td>\n",
       "      <td>1.0</td>\n",
       "      <td>1.0</td>\n",
       "      <td>2.0</td>\n",
       "    </tr>\n",
       "    <tr>\n",
       "      <th>996</th>\n",
       "      <td>1.0</td>\n",
       "      <td>7.0</td>\n",
       "      <td>34.0</td>\n",
       "      <td>0.0</td>\n",
       "      <td>2.0</td>\n",
       "      <td>22.0</td>\n",
       "      <td>5.0</td>\n",
       "      <td>5.0</td>\n",
       "      <td>0.0</td>\n",
       "      <td>1.0</td>\n",
       "      <td>...</td>\n",
       "      <td>NaN</td>\n",
       "      <td>3.091042</td>\n",
       "      <td>1.0</td>\n",
       "      <td>0.0</td>\n",
       "      <td>2.0</td>\n",
       "      <td>1.0</td>\n",
       "      <td>1.0</td>\n",
       "      <td>1.0</td>\n",
       "      <td>1.0</td>\n",
       "      <td>1.0</td>\n",
       "    </tr>\n",
       "    <tr>\n",
       "      <th>997</th>\n",
       "      <td>3.0</td>\n",
       "      <td>67.0</td>\n",
       "      <td>59.0</td>\n",
       "      <td>0.0</td>\n",
       "      <td>40.0</td>\n",
       "      <td>944.0</td>\n",
       "      <td>5.0</td>\n",
       "      <td>33.0</td>\n",
       "      <td>0.0</td>\n",
       "      <td>1.0</td>\n",
       "      <td>...</td>\n",
       "      <td>4.186620</td>\n",
       "      <td>6.850126</td>\n",
       "      <td>4.0</td>\n",
       "      <td>0.0</td>\n",
       "      <td>6.0</td>\n",
       "      <td>2.0</td>\n",
       "      <td>3.0</td>\n",
       "      <td>4.0</td>\n",
       "      <td>5.0</td>\n",
       "      <td>10.0</td>\n",
       "    </tr>\n",
       "    <tr>\n",
       "      <th>998</th>\n",
       "      <td>3.0</td>\n",
       "      <td>70.0</td>\n",
       "      <td>49.0</td>\n",
       "      <td>0.0</td>\n",
       "      <td>18.0</td>\n",
       "      <td>87.0</td>\n",
       "      <td>2.0</td>\n",
       "      <td>22.0</td>\n",
       "      <td>0.0</td>\n",
       "      <td>1.0</td>\n",
       "      <td>...</td>\n",
       "      <td>NaN</td>\n",
       "      <td>4.465908</td>\n",
       "      <td>3.0</td>\n",
       "      <td>0.0</td>\n",
       "      <td>6.0</td>\n",
       "      <td>2.0</td>\n",
       "      <td>3.0</td>\n",
       "      <td>4.0</td>\n",
       "      <td>5.0</td>\n",
       "      <td>10.0</td>\n",
       "    </tr>\n",
       "    <tr>\n",
       "      <th>999</th>\n",
       "      <td>3.0</td>\n",
       "      <td>50.0</td>\n",
       "      <td>36.0</td>\n",
       "      <td>1.0</td>\n",
       "      <td>7.0</td>\n",
       "      <td>39.0</td>\n",
       "      <td>3.0</td>\n",
       "      <td>3.0</td>\n",
       "      <td>0.0</td>\n",
       "      <td>1.0</td>\n",
       "      <td>...</td>\n",
       "      <td>NaN</td>\n",
       "      <td>3.663562</td>\n",
       "      <td>2.0</td>\n",
       "      <td>1.0</td>\n",
       "      <td>4.0</td>\n",
       "      <td>2.0</td>\n",
       "      <td>3.0</td>\n",
       "      <td>3.0</td>\n",
       "      <td>4.0</td>\n",
       "      <td>7.0</td>\n",
       "    </tr>\n",
       "  </tbody>\n",
       "</table>\n",
       "<p>1000 rows × 48 columns</p>\n",
       "</div>"
      ],
      "text/plain": [
       "     region  tenure   age  marital  address  income   ed  employ  retire  \\\n",
       "0       2.0    13.0  44.0      1.0      9.0    64.0  4.0     5.0     0.0   \n",
       "1       3.0    11.0  33.0      1.0      7.0   136.0  5.0     5.0     0.0   \n",
       "2       3.0    68.0  52.0      1.0     24.0   116.0  1.0    29.0     0.0   \n",
       "3       2.0    33.0  33.0      0.0     12.0    33.0  2.0     0.0     0.0   \n",
       "4       2.0    23.0  30.0      1.0      9.0    30.0  1.0     2.0     0.0   \n",
       "..      ...     ...   ...      ...      ...     ...  ...     ...     ...   \n",
       "995     3.0    10.0  39.0      0.0      0.0    27.0  3.0     0.0     0.0   \n",
       "996     1.0     7.0  34.0      0.0      2.0    22.0  5.0     5.0     0.0   \n",
       "997     3.0    67.0  59.0      0.0     40.0   944.0  5.0    33.0     0.0   \n",
       "998     3.0    70.0  49.0      0.0     18.0    87.0  2.0    22.0     0.0   \n",
       "999     3.0    50.0  36.0      1.0      7.0    39.0  3.0     3.0     0.0   \n",
       "\n",
       "     gender  ...   logwire     lninc  custcat  churn  tenure_chaid  \\\n",
       "0       0.0  ...       NaN  4.158883      1.0    1.0           2.0   \n",
       "1       0.0  ...  3.575151  4.912655      4.0    1.0           2.0   \n",
       "2       1.0  ...       NaN  4.753590      3.0    0.0           6.0   \n",
       "3       1.0  ...       NaN  3.496508      1.0    1.0           4.0   \n",
       "4       0.0  ...       NaN  3.401197      3.0    0.0           3.0   \n",
       "..      ...  ...       ...       ...      ...    ...           ...   \n",
       "995     1.0  ...       NaN  3.295837      1.0    0.0           2.0   \n",
       "996     1.0  ...       NaN  3.091042      1.0    0.0           2.0   \n",
       "997     1.0  ...  4.186620  6.850126      4.0    0.0           6.0   \n",
       "998     1.0  ...       NaN  4.465908      3.0    0.0           6.0   \n",
       "999     1.0  ...       NaN  3.663562      2.0    1.0           4.0   \n",
       "\n",
       "     tenure_bin2  tenure_bin3  tenure_bin4  tenure_bin5  tenure_bin10  \n",
       "0            1.0          1.0          1.0          1.0           2.0  \n",
       "1            1.0          1.0          1.0          1.0           2.0  \n",
       "2            2.0          3.0          4.0          5.0          10.0  \n",
       "3            1.0          2.0          2.0          3.0           5.0  \n",
       "4            1.0          2.0          2.0          2.0           4.0  \n",
       "..           ...          ...          ...          ...           ...  \n",
       "995          1.0          1.0          1.0          1.0           2.0  \n",
       "996          1.0          1.0          1.0          1.0           1.0  \n",
       "997          2.0          3.0          4.0          5.0          10.0  \n",
       "998          2.0          3.0          4.0          5.0          10.0  \n",
       "999          2.0          3.0          3.0          4.0           7.0  \n",
       "\n",
       "[1000 rows x 48 columns]"
      ]
     },
     "execution_count": 2,
     "metadata": {},
     "output_type": "execute_result"
    }
   ],
   "source": [
    "df"
   ]
  },
  {
   "cell_type": "code",
   "execution_count": 3,
   "metadata": {},
   "outputs": [
    {
     "data": {
      "text/plain": [
       "Index(['region', 'tenure', 'age', 'marital', 'address', 'income', 'ed',\n",
       "       'employ', 'retire', 'gender', 'reside', 'tollfree', 'equip', 'callcard',\n",
       "       'wireless', 'longmon', 'tollmon', 'equipmon', 'cardmon', 'wiremon',\n",
       "       'longten', 'tollten', 'equipten', 'cardten', 'wireten', 'multline',\n",
       "       'voice', 'pager', 'internet', 'callid', 'callwait', 'forward', 'confer',\n",
       "       'ebill', 'loglong', 'logtoll', 'logequi', 'logcard', 'logwire', 'lninc',\n",
       "       'custcat', 'churn', 'tenure_chaid', 'tenure_bin2', 'tenure_bin3',\n",
       "       'tenure_bin4', 'tenure_bin5', 'tenure_bin10'],\n",
       "      dtype='object')"
      ]
     },
     "execution_count": 3,
     "metadata": {},
     "output_type": "execute_result"
    }
   ],
   "source": [
    "df.columns"
   ]
  },
  {
   "cell_type": "code",
   "execution_count": 4,
   "metadata": {},
   "outputs": [
    {
     "name": "stdout",
     "output_type": "stream",
     "text": [
      "region            0\n",
      "tenure            0\n",
      "age               0\n",
      "marital           0\n",
      "address           0\n",
      "income            0\n",
      "ed                0\n",
      "employ            0\n",
      "retire            0\n",
      "gender            0\n",
      "reside            0\n",
      "tollfree          0\n",
      "equip             0\n",
      "callcard          0\n",
      "wireless          0\n",
      "longmon           0\n",
      "tollmon           0\n",
      "equipmon          0\n",
      "cardmon           0\n",
      "wiremon           0\n",
      "longten           0\n",
      "tollten           0\n",
      "equipten          0\n",
      "cardten           0\n",
      "wireten           0\n",
      "multline          0\n",
      "voice             0\n",
      "pager             0\n",
      "internet          0\n",
      "callid            0\n",
      "callwait          0\n",
      "forward           0\n",
      "confer            0\n",
      "ebill             0\n",
      "loglong           0\n",
      "logtoll         525\n",
      "logequi         614\n",
      "logcard         322\n",
      "logwire         704\n",
      "lninc             0\n",
      "custcat           0\n",
      "churn             0\n",
      "tenure_chaid      0\n",
      "tenure_bin2       0\n",
      "tenure_bin3       0\n",
      "tenure_bin4       0\n",
      "tenure_bin5       0\n",
      "tenure_bin10      0\n",
      "dtype: int64\n"
     ]
    }
   ],
   "source": [
    "print(df.isnull().sum())"
   ]
  },
  {
   "cell_type": "code",
   "execution_count": 18,
   "metadata": {},
   "outputs": [
    {
     "data": {
      "text/plain": [
       "4.0    307\n",
       "3.0    201\n",
       "5.0    194\n",
       "2.0    107\n",
       "6.0     98\n",
       "1.0     93\n",
       "Name: tenure_chaid, dtype: int64"
      ]
     },
     "execution_count": 18,
     "metadata": {},
     "output_type": "execute_result"
    }
   ],
   "source": [
    "df.tenure_chaid.value_counts()"
   ]
  },
  {
   "cell_type": "code",
   "execution_count": 22,
   "metadata": {},
   "outputs": [
    {
     "data": {
      "text/plain": [
       "3.0    204\n",
       "2.0    201\n",
       "1.0    200\n",
       "4.0    198\n",
       "5.0    197\n",
       "Name: tenure_bin5, dtype: int64"
      ]
     },
     "execution_count": 22,
     "metadata": {},
     "output_type": "execute_result"
    }
   ],
   "source": [
    "df.tenure_bin5.value_counts()"
   ]
  },
  {
   "cell_type": "code",
   "execution_count": 8,
   "metadata": {},
   "outputs": [
    {
     "data": {
      "image/png": "[encoded data removed]",
      "text/plain": [
       "<Figure size 432x288 with 1 Axes>"
      ]
     },
     "metadata": {
      "needs_background": "light"
     },
     "output_type": "display_data"
    }
   ],
   "source": [
    "import matplotlib.pyplot as plt\n",
    "import seaborn as sns\n",
    "\n",
    "fig, ax = plt.subplots()\n",
    "sns.distplot(df.tenure, ax=ax, hist=True, kde=False, \n",
    "             bins=range(1,74,1), color = 'blue',\n",
    "             hist_kws={'edgecolor':'black'})\n",
    "ax.set_xlim(1,73)\n",
    "ax.set_xticks(range(1,73, 5))\n",
    "plt.show()"
   ]
  },
  {
   "cell_type": "code",
   "execution_count": 9,
   "metadata": {},
   "outputs": [
    {
     "data": {
      "text/plain": [
       "(726, 48)"
      ]
     },
     "execution_count": 9,
     "metadata": {},
     "output_type": "execute_result"
    }
   ],
   "source": [
    "df_nochurn = df[df.churn == 0]\n",
    "df_nochurn.shape"
   ]
  },
  {
   "cell_type": "code",
   "execution_count": 11,
   "metadata": {},
   "outputs": [
    {
     "data": {
      "image/png": "[encoded data removed]",
      "text/plain": [
       "<Figure size 432x288 with 1 Axes>"
      ]
     },
     "metadata": {
      "needs_background": "light"
     },
     "output_type": "display_data"
    }
   ],
   "source": [
    "fig, ax = plt.subplots()\n",
    "sns.distplot(df_nochurn.tenure, ax=ax, hist=True, kde=False, \n",
    "             bins=range(1,74,1), color = 'darkgreen',\n",
    "             hist_kws={'edgecolor':'black'})\n",
    "ax.set_xlim(1,73)\n",
    "ax.set_xticks(range(1,73, 5))\n",
    "plt.title(\"A 'maradók' eloszlása a tenure változó szerint\")\n",
    "plt.show()"
   ]
  },
  {
   "cell_type": "code",
   "execution_count": 12,
   "metadata": {},
   "outputs": [
    {
     "data": {
      "text/plain": [
       "(274, 48)"
      ]
     },
     "execution_count": 12,
     "metadata": {},
     "output_type": "execute_result"
    }
   ],
   "source": [
    "df_churn = df[df.churn == 1]\n",
    "df_churn.shape"
   ]
  },
  {
   "cell_type": "code",
   "execution_count": 14,
   "metadata": {},
   "outputs": [
    {
     "data": {
      "image/png": "[encoded data removed]",
      "text/plain": [
       "<Figure size 432x288 with 1 Axes>"
      ]
     },
     "metadata": {
      "needs_background": "light"
     },
     "output_type": "display_data"
    }
   ],
   "source": [
    "fig, ax = plt.subplots()\n",
    "sns.distplot(df_churn.tenure, ax=ax, hist=True, kde=False, \n",
    "             bins=range(1,74,1), color = 'darkgreen',\n",
    "             hist_kws={'edgecolor':'black'})\n",
    "ax.set_xlim(1,73)\n",
    "ax.set_xticks(range(1,73, 5))\n",
    "plt.title(\"Az elvándorlók eloszlása a tenure változó szerint\")\n",
    "plt.show()"
   ]
  },
  {
   "cell_type": "code",
   "execution_count": 15,
   "metadata": {},
   "outputs": [
    {
     "data": {
      "image/png": "[encoded data removed]",
      "text/plain": [
       "<Figure size 432x288 with 1 Axes>"
      ]
     },
     "metadata": {
      "needs_background": "light"
     },
     "output_type": "display_data"
    }
   ],
   "source": [
    "fig, ax = plt.subplots()\n",
    "sns.distplot(df.tenure_chaid, ax=ax, hist=True, kde=False, \n",
    "             bins=range(1,8,1), color = 'blue',\n",
    "             hist_kws={'edgecolor':'black'})\n",
    "ax.set_xlim(1,7)\n",
    "ax.set_xticks(range(1,7))\n",
    "plt.show()"
   ]
  },
  {
   "cell_type": "code",
   "execution_count": 16,
   "metadata": {},
   "outputs": [
    {
     "data": {
      "image/png": "[encoded data removed]",
      "text/plain": [
       "<Figure size 432x288 with 1 Axes>"
      ]
     },
     "metadata": {
      "needs_background": "light"
     },
     "output_type": "display_data"
    }
   ],
   "source": [
    "fig, ax = plt.subplots()\n",
    "sns.distplot(df_nochurn.tenure_chaid, ax=ax, hist=True, kde=False, \n",
    "             bins=range(1,8,1), color = 'darkgreen',\n",
    "             hist_kws={'edgecolor':'black'})\n",
    "ax.set_xlim(1,7)\n",
    "ax.set_xticks(range(1,7,1))\n",
    "plt.title(\"A 'maradók' eloszlása a tenure változó szerint\")\n",
    "plt.show()"
   ]
  },
  {
   "cell_type": "code",
   "execution_count": 51,
   "metadata": {},
   "outputs": [
    {
     "data": {
      "image/png": "[encoded data removed]",
      "text/plain": [
       "<Figure size 432x288 with 1 Axes>"
      ]
     },
     "metadata": {
      "needs_background": "light"
     },
     "output_type": "display_data"
    }
   ],
   "source": [
    "fig, ax = plt.subplots()\n",
    "sns.distplot(df_churn.tenure_chaid, ax=ax, hist=True, kde=False, \n",
    "             bins=range(1,8,1), color = 'darkgreen',\n",
    "             hist_kws={'edgecolor':'black'})\n",
    "ax.set_xlim(1, 7)\n",
    "ax.set_xticks(range(1,7,1))\n",
    "plt.title(\"Az elvándorlók eloszlása a tenure változó szerint\")\n",
    "plt.show()"
   ]
  },
  {
   "cell_type": "code",
   "execution_count": 23,
   "metadata": {},
   "outputs": [
    {
     "data": {
      "image/png": "[encoded data removed]",
      "text/plain": [
       "<Figure size 432x288 with 1 Axes>"
      ]
     },
     "metadata": {
      "needs_background": "light"
     },
     "output_type": "display_data"
    }
   ],
   "source": [
    "import matplotlib.pyplot as plt\n",
    "import seaborn as sns\n",
    "\n",
    "fig, ax = plt.subplots()\n",
    "sns.distplot(df.tenure_bin4, ax=ax, hist=True, kde=False, \n",
    "             bins=range(1,6,1), color = 'blue',\n",
    "             hist_kws={'edgecolor':'black'})\n",
    "ax.set_xlim(1, 5)\n",
    "ax.set_xticks(range(1, 5))\n",
    "plt.show()"
   ]
  },
  {
   "cell_type": "code",
   "execution_count": 24,
   "metadata": {},
   "outputs": [
    {
     "data": {
      "image/png": "[encoded data removed]",
      "text/plain": [
       "<Figure size 432x288 with 1 Axes>"
      ]
     },
     "metadata": {
      "needs_background": "light"
     },
     "output_type": "display_data"
    }
   ],
   "source": [
    "fig, ax = plt.subplots()\n",
    "sns.distplot(df_nochurn.tenure_bin4, ax=ax, hist=True, kde=False, \n",
    "             bins=range(1,6,1), color = 'darkgreen',\n",
    "             hist_kws={'edgecolor':'black'})\n",
    "ax.set_xlim(1, 5)\n",
    "ax.set_xticks(range(1, 5, 1))\n",
    "plt.title(\"A 'maradók' eloszlása a tenure változó szerint\")\n",
    "plt.show()"
   ]
  },
  {
   "cell_type": "code",
   "execution_count": 26,
   "metadata": {},
   "outputs": [
    {
     "data": {
      "image/png": "[encoded data removed]",
      "text/plain": [
       "<Figure size 432x288 with 1 Axes>"
      ]
     },
     "metadata": {
      "needs_background": "light"
     },
     "output_type": "display_data"
    }
   ],
   "source": [
    "fig, ax = plt.subplots()\n",
    "sns.distplot(df_churn.tenure_bin4, ax=ax, hist=True, kde=False, \n",
    "             bins=range(1,6,1), color = 'darkgreen',\n",
    "             hist_kws={'edgecolor':'black'})\n",
    "ax.set_xlim(1, 5)\n",
    "ax.set_xticks(range(1, 5, 1))\n",
    "plt.title(\"Az elvándorlók eloszlása a tenure változó szerint\")\n",
    "plt.show()"
   ]
  },
  {
   "cell_type": "code",
   "execution_count": 31,
   "metadata": {},
   "outputs": [],
   "source": [
    "import statsmodels.formula.api as smf\n",
    "import seaborn as sns"
   ]
  },
  {
   "cell_type": "code",
   "execution_count": 32,
   "metadata": {},
   "outputs": [
    {
     "data": {
      "image/png": "[encoded data removed]",
      "text/plain": [
       "<Figure size 432x288 with 1 Axes>"
      ]
     },
     "metadata": {
      "needs_background": "light"
     },
     "output_type": "display_data"
    }
   ],
   "source": [
    "tenure = sns.regplot(x= 'tenure', y= 'churn', data= df, logistic= True).set_title(\"Tenure Log Odds Linear Plot\")"
   ]
  },
  {
   "cell_type": "code",
   "execution_count": 64,
   "metadata": {},
   "outputs": [
    {
     "data": {
      "image/png": "[encoded data removed]",
      "text/plain": [
       "<Figure size 432x288 with 1 Axes>"
      ]
     },
     "metadata": {
      "needs_background": "light"
     },
     "output_type": "display_data"
    }
   ],
   "source": [
    "employ = sns.regplot(x= 'employ', y= 'churn', data= df, logistic= True).set_title(\"Employ Log Odds Linear Plot\")"
   ]
  },
  {
   "cell_type": "code",
   "execution_count": 34,
   "metadata": {},
   "outputs": [
    {
     "data": {
      "image/png": "[encoded data removed]",
      "text/plain": [
       "<Figure size 432x288 with 1 Axes>"
      ]
     },
     "metadata": {
      "needs_background": "light"
     },
     "output_type": "display_data"
    }
   ],
   "source": [
    "equipmon = sns.regplot(x= 'equipmon', y= 'churn', data= df, logistic= True).set_title(\"Equipmon Log Odds Linear Plot\")"
   ]
  },
  {
   "cell_type": "code",
   "execution_count": 36,
   "metadata": {},
   "outputs": [
    {
     "data": {
      "text/html": [
       "<div>\n",
       "<style scoped>\n",
       "    .dataframe tbody tr th:only-of-type {\n",
       "        vertical-align: middle;\n",
       "    }\n",
       "\n",
       "    .dataframe tbody tr th {\n",
       "        vertical-align: top;\n",
       "    }\n",
       "\n",
       "    .dataframe thead th {\n",
       "        text-align: right;\n",
       "    }\n",
       "</style>\n",
       "<table border=\"1\" class=\"dataframe\">\n",
       "  <thead>\n",
       "    <tr style=\"text-align: right;\">\n",
       "      <th></th>\n",
       "      <th>equipmon</th>\n",
       "      <th>employ</th>\n",
       "      <th>tenure</th>\n",
       "    </tr>\n",
       "  </thead>\n",
       "  <tbody>\n",
       "    <tr>\n",
       "      <th>0</th>\n",
       "      <td>0.00</td>\n",
       "      <td>5.0</td>\n",
       "      <td>13.0</td>\n",
       "    </tr>\n",
       "    <tr>\n",
       "      <th>1</th>\n",
       "      <td>0.00</td>\n",
       "      <td>5.0</td>\n",
       "      <td>11.0</td>\n",
       "    </tr>\n",
       "    <tr>\n",
       "      <th>2</th>\n",
       "      <td>0.00</td>\n",
       "      <td>29.0</td>\n",
       "      <td>68.0</td>\n",
       "    </tr>\n",
       "    <tr>\n",
       "      <th>3</th>\n",
       "      <td>0.00</td>\n",
       "      <td>0.0</td>\n",
       "      <td>33.0</td>\n",
       "    </tr>\n",
       "    <tr>\n",
       "      <th>4</th>\n",
       "      <td>0.00</td>\n",
       "      <td>2.0</td>\n",
       "      <td>23.0</td>\n",
       "    </tr>\n",
       "    <tr>\n",
       "      <th>...</th>\n",
       "      <td>...</td>\n",
       "      <td>...</td>\n",
       "      <td>...</td>\n",
       "    </tr>\n",
       "    <tr>\n",
       "      <th>995</th>\n",
       "      <td>29.05</td>\n",
       "      <td>0.0</td>\n",
       "      <td>10.0</td>\n",
       "    </tr>\n",
       "    <tr>\n",
       "      <th>996</th>\n",
       "      <td>25.60</td>\n",
       "      <td>5.0</td>\n",
       "      <td>7.0</td>\n",
       "    </tr>\n",
       "    <tr>\n",
       "      <th>997</th>\n",
       "      <td>54.55</td>\n",
       "      <td>33.0</td>\n",
       "      <td>67.0</td>\n",
       "    </tr>\n",
       "    <tr>\n",
       "      <th>998</th>\n",
       "      <td>0.00</td>\n",
       "      <td>22.0</td>\n",
       "      <td>70.0</td>\n",
       "    </tr>\n",
       "    <tr>\n",
       "      <th>999</th>\n",
       "      <td>33.60</td>\n",
       "      <td>3.0</td>\n",
       "      <td>50.0</td>\n",
       "    </tr>\n",
       "  </tbody>\n",
       "</table>\n",
       "<p>1000 rows × 3 columns</p>\n",
       "</div>"
      ],
      "text/plain": [
       "     equipmon  employ  tenure\n",
       "0        0.00     5.0    13.0\n",
       "1        0.00     5.0    11.0\n",
       "2        0.00    29.0    68.0\n",
       "3        0.00     0.0    33.0\n",
       "4        0.00     2.0    23.0\n",
       "..        ...     ...     ...\n",
       "995     29.05     0.0    10.0\n",
       "996     25.60     5.0     7.0\n",
       "997     54.55    33.0    67.0\n",
       "998      0.00    22.0    70.0\n",
       "999     33.60     3.0    50.0\n",
       "\n",
       "[1000 rows x 3 columns]"
      ]
     },
     "execution_count": 36,
     "metadata": {},
     "output_type": "execute_result"
    }
   ],
   "source": [
    "df_variables = df[[\"equipmon\",\"employ\", \"tenure\"]]\n",
    "df_variables"
   ]
  },
  {
   "cell_type": "code",
   "execution_count": 37,
   "metadata": {},
   "outputs": [],
   "source": [
    "#df_variables['tenure_chaid'] = df_variables['tenure_chaid'].astype('category')\n",
    "#df_variables = pd.get_dummies(df_variables)"
   ]
  },
  {
   "cell_type": "code",
   "execution_count": 38,
   "metadata": {},
   "outputs": [
    {
     "data": {
      "text/html": [
       "<div>\n",
       "<style scoped>\n",
       "    .dataframe tbody tr th:only-of-type {\n",
       "        vertical-align: middle;\n",
       "    }\n",
       "\n",
       "    .dataframe tbody tr th {\n",
       "        vertical-align: top;\n",
       "    }\n",
       "\n",
       "    .dataframe thead th {\n",
       "        text-align: right;\n",
       "    }\n",
       "</style>\n",
       "<table border=\"1\" class=\"dataframe\">\n",
       "  <thead>\n",
       "    <tr style=\"text-align: right;\">\n",
       "      <th></th>\n",
       "      <th>equipmon</th>\n",
       "      <th>employ</th>\n",
       "      <th>tenure</th>\n",
       "    </tr>\n",
       "  </thead>\n",
       "  <tbody>\n",
       "    <tr>\n",
       "      <th>equipmon</th>\n",
       "      <td>1.000000</td>\n",
       "      <td>-0.161108</td>\n",
       "      <td>-0.060356</td>\n",
       "    </tr>\n",
       "    <tr>\n",
       "      <th>employ</th>\n",
       "      <td>-0.161108</td>\n",
       "      <td>1.000000</td>\n",
       "      <td>0.520288</td>\n",
       "    </tr>\n",
       "    <tr>\n",
       "      <th>tenure</th>\n",
       "      <td>-0.060356</td>\n",
       "      <td>0.520288</td>\n",
       "      <td>1.000000</td>\n",
       "    </tr>\n",
       "  </tbody>\n",
       "</table>\n",
       "</div>"
      ],
      "text/plain": [
       "          equipmon    employ    tenure\n",
       "equipmon  1.000000 -0.161108 -0.060356\n",
       "employ   -0.161108  1.000000  0.520288\n",
       "tenure   -0.060356  0.520288  1.000000"
      ]
     },
     "execution_count": 38,
     "metadata": {},
     "output_type": "execute_result"
    }
   ],
   "source": [
    "df_variables.corr()"
   ]
  },
  {
   "cell_type": "code",
   "execution_count": 39,
   "metadata": {},
   "outputs": [],
   "source": [
    "from sklearn.linear_model import LogisticRegression\n",
    "from sklearn import metrics\n",
    "from sklearn.model_selection import train_test_split\n",
    "\n",
    "\n",
    "target = df['churn']\n",
    "features = df[['employ', 'equipmon', 'tenure']]\n",
    "X_train, X_test, y_train, y_test = train_test_split(features, target, test_size=0.4, random_state=10)"
   ]
  },
  {
   "cell_type": "code",
   "execution_count": 41,
   "metadata": {},
   "outputs": [
    {
     "data": {
      "text/plain": [
       "LogisticRegression()"
      ]
     },
     "execution_count": 41,
     "metadata": {},
     "output_type": "execute_result"
    }
   ],
   "source": [
    "logreg = LogisticRegression() \n",
    "logreg.fit(X_train, y_train)"
   ]
  },
  {
   "cell_type": "code",
   "execution_count": 42,
   "metadata": {},
   "outputs": [],
   "source": [
    "y_pred = logreg.predict(X_test)"
   ]
  },
  {
   "cell_type": "code",
   "execution_count": 45,
   "metadata": {},
   "outputs": [
    {
     "name": "stdout",
     "output_type": "stream",
     "text": [
      "[[250  37]\n",
      " [ 63  50]]\n"
     ]
    }
   ],
   "source": [
    "from sklearn.metrics import confusion_matrix\n",
    "confusion_matrix = confusion_matrix(y_test, y_pred)\n",
    "print(confusion_matrix)"
   ]
  },
  {
   "cell_type": "code",
   "execution_count": 46,
   "metadata": {},
   "outputs": [
    {
     "name": "stdout",
     "output_type": "stream",
     "text": [
      "Accuracy :  0.75\n",
      "Sensitivity :  0.8710801393728222\n",
      "Specificity :  0.4424778761061947\n"
     ]
    }
   ],
   "source": [
    "total=sum(sum(confusion_matrix))\n",
    "#####from confusion matrix calculate accuracy\n",
    "accuracy=(confusion_matrix[0,0]+confusion_matrix[1,1])/total\n",
    "print ('Accuracy : ', accuracy)\n",
    "\n",
    "sensitivity = confusion_matrix[0,0]/(confusion_matrix[0,0]+confusion_matrix[0,1])\n",
    "print('Sensitivity : ', sensitivity )\n",
    "\n",
    "specificity = confusion_matrix[1,1]/(confusion_matrix[1,0]+confusion_matrix[1,1])\n",
    "print('Specificity : ', specificity)"
   ]
  },
  {
   "cell_type": "code",
   "execution_count": 49,
   "metadata": {},
   "outputs": [
    {
     "data": {
      "text/plain": [
       "LogisticRegression()"
      ]
     },
     "execution_count": 49,
     "metadata": {},
     "output_type": "execute_result"
    }
   ],
   "source": [
    "target_ch = df['churn']\n",
    "features_ch = df[['employ', 'equipmon', 'tenure_chaid']]\n",
    "X_train_ch, X_test_ch, y_train_ch, y_test_ch = train_test_split(features_ch, target_ch, test_size=0.4, random_state=10)\n",
    "logreg_ch = LogisticRegression()\n",
    "logreg_ch.fit(X_train_ch, y_train_ch)"
   ]
  },
  {
   "cell_type": "code",
   "execution_count": 76,
   "metadata": {},
   "outputs": [],
   "source": [
    "y_pred_ch = logreg_ch.predict(X_test_ch)"
   ]
  },
  {
   "cell_type": "code",
   "execution_count": 77,
   "metadata": {},
   "outputs": [],
   "source": [
    "target_con = df['churn']\n",
    "features_con = df[['employ', 'equipmon', 'tenure']]\n",
    "X_train_con, X_test_con, y_train_con, y_test_con = train_test_split(features_con, target_con, test_size=0.4, random_state=10)\n",
    "logreg_con = LogisticRegression()\n",
    "logreg_con.fit(X_train_con, y_train_con)\n",
    "y_pred_con = logreg_con.predict(X_test_con)"
   ]
  },
  {
   "cell_type": "code",
   "execution_count": 79,
   "metadata": {},
   "outputs": [],
   "source": [
    "target_bin2 = df['churn']\n",
    "features_bin2 = df[['employ', 'equipmon', 'tenure_bin2']]\n",
    "X_train_bin2, X_test_bin2, y_train_bin2, y_test_bin2 = train_test_split(features_bin2, target_bin2, test_size=0.4, random_state=10)\n",
    "logreg_bin2 = LogisticRegression()\n",
    "logreg_bin2.fit(X_train_bin2, y_train_bin2)\n",
    "y_pred_bin2 = logreg_bin2.predict(X_test_bin2)"
   ]
  },
  {
   "cell_type": "code",
   "execution_count": 81,
   "metadata": {},
   "outputs": [],
   "source": [
    "target_bin3 = df['churn']\n",
    "features_bin3 = df[['employ', 'equipmon', 'tenure_bin3']]\n",
    "X_train_bin3, X_test_bin3, y_train_bin3, y_test_bin3 = train_test_split(features_bin3, target_bin3, test_size=0.4, random_state=10)\n",
    "logreg_bin3 = LogisticRegression()\n",
    "logreg_bin3.fit(X_train_bin3, y_train_bin3)\n",
    "y_pred_bin3 = logreg_bin3.predict(X_test_bin3)"
   ]
  },
  {
   "cell_type": "code",
   "execution_count": 82,
   "metadata": {},
   "outputs": [],
   "source": [
    "target_bin4 = df['churn']\n",
    "features_bin4 = df[['employ', 'equipmon', 'tenure_bin4']]\n",
    "X_train_bin4, X_test_bin4, y_train_bin4, y_test_bin4 = train_test_split(features_bin4, target_bin4, test_size=0.4, random_state=10)\n",
    "logreg_bin4 = LogisticRegression()\n",
    "logreg_bin4.fit(X_train_bin4, y_train_bin4)\n",
    "y_pred_bin4 = logreg_bin4.predict(X_test_bin4)"
   ]
  },
  {
   "cell_type": "code",
   "execution_count": 83,
   "metadata": {},
   "outputs": [],
   "source": [
    "target_bin5 = df['churn']\n",
    "features_bin5 = df[['employ', 'equipmon', 'tenure_bin5']]\n",
    "X_train_bin5, X_test_bin5, y_train_bin5, y_test_bin5 = train_test_split(features_bin5, target_bin5, test_size=0.4, random_state=10)\n",
    "logreg_bin5 = LogisticRegression()\n",
    "logreg_bin5.fit(X_train_bin5, y_train_bin5)\n",
    "y_pred_bin5 = logreg_bin5.predict(X_test_bin5)"
   ]
  },
  {
   "cell_type": "code",
   "execution_count": 84,
   "metadata": {},
   "outputs": [
    {
     "name": "stdout",
     "output_type": "stream",
     "text": [
      "No Skill: ROC AUC=0.500\n",
      "Logistic_CHAID: ROC AUC=0.768\n",
      "Logistic_continuous: ROC AUC=0.762\n",
      "Logistic_median: ROC AUC=0.726\n",
      "Logistic_tercilis: ROC AUC=0.756\n",
      "Logistic_kvartilis: ROC AUC=0.748\n",
      "Logistic_kvintilis: ROC AUC=0.756\n"
     ]
    },
    {
     "data": {
      "text/plain": [
       "<matplotlib.legend.Legend at 0x23921d862b0>"
      ]
     },
     "execution_count": 84,
     "metadata": {},
     "output_type": "execute_result"
    },
    {
     "data": {
      "image/png": "[encoded data removed]",
      "text/plain": [
       "<Figure size 432x288 with 1 Axes>"
      ]
     },
     "metadata": {
      "needs_background": "light"
     },
     "output_type": "display_data"
    }
   ],
   "source": [
    "from sklearn.metrics import roc_curve\n",
    "from sklearn.metrics import roc_auc_score\n",
    "from matplotlib import pyplot\n",
    "\n",
    "ns_probs = [0 for _ in range(len(y_test))]\n",
    "# predict probabilities\n",
    "lr_probs_ch = logreg_ch.predict_proba(X_test_ch)\n",
    "lr_probs_con = logreg_con.predict_proba(X_test_con)\n",
    "lr_probs_bin2 = logreg_bin2.predict_proba(X_test_bin2)\n",
    "lr_probs_bin3 = logreg_bin3.predict_proba(X_test_bin3)\n",
    "lr_probs_bin4 = logreg_bin4.predict_proba(X_test_bin4)\n",
    "lr_probs_bin5 = logreg_bin5.predict_proba(X_test_bin5)\n",
    "\n",
    "\n",
    "# keep probabilities for the positive outcome only\n",
    "lr_probs_ch = lr_probs_ch[:, 1]\n",
    "lr_probs_con = lr_probs_con[:, 1]\n",
    "lr_probs_bin2 = lr_probs_bin2[:, 1]\n",
    "lr_probs_bin3 = lr_probs_bin3[:, 1]\n",
    "lr_probs_bin4 = lr_probs_bin4[:, 1]\n",
    "lr_probs_bin5 = lr_probs_bin5[:, 1]\n",
    "\n",
    "\n",
    "# calculate scores\n",
    "ns_auc = roc_auc_score(y_test, ns_probs)\n",
    "lr_auc_ch = roc_auc_score(y_test_ch, lr_probs_ch)\n",
    "lr_auc_con = roc_auc_score(y_test_con, lr_probs_con)\n",
    "lr_auc_bin2 = roc_auc_score(y_test_bin2, lr_probs_bin2)\n",
    "lr_auc_bin3 = roc_auc_score(y_test_bin3, lr_probs_bin3)\n",
    "lr_auc_bin4 = roc_auc_score(y_test_bin4, lr_probs_bin4)\n",
    "lr_auc_bin5 = roc_auc_score(y_test_bin5, lr_probs_bin5)\n",
    "\n",
    "\n",
    "# summarize scores\n",
    "print('No Skill: ROC AUC=%.3f' % (ns_auc))\n",
    "print('Logistic_CHAID: ROC AUC=%.3f' % (lr_auc_ch))\n",
    "print('Logistic_continuous: ROC AUC=%.3f' % (lr_auc_con))\n",
    "print('Logistic_median: ROC AUC=%.3f' % (lr_auc_bin2))\n",
    "print('Logistic_tercilis: ROC AUC=%.3f' % (lr_auc_bin3))\n",
    "print('Logistic_kvartilis: ROC AUC=%.3f' % (lr_auc_bin4))\n",
    "print('Logistic_kvintilis: ROC AUC=%.3f' % (lr_auc_bin5))\n",
    "\n",
    "\n",
    "# calculate roc curves\n",
    "ns_fpr, ns_tpr, _ = roc_curve(y_test, ns_probs)\n",
    "lr_fpr_ch, lr_tpr_ch, _ = roc_curve(y_test_ch, lr_probs_ch)\n",
    "lr_fpr_con, lr_tpr_con, _ = roc_curve(y_test_con, lr_probs_con)\n",
    "lr_fpr_bin2, lr_tpr_bin2, _ = roc_curve(y_test_bin2, lr_probs_bin2)\n",
    "lr_fpr_bin3, lr_tpr_bin3, _ = roc_curve(y_test_bin3, lr_probs_bin3)\n",
    "lr_fpr_bin4, lr_tpr_bin4, _ = roc_curve(y_test_bin4, lr_probs_bin4)\n",
    "lr_fpr_bin5, lr_tpr_bin5, _ = roc_curve(y_test_bin5, lr_probs_bin5)\n",
    "\n",
    "\n",
    "# plot the roc curve for the model\n",
    "pyplot.plot(ns_fpr, ns_tpr, linestyle='--', label='No Skill')\n",
    "pyplot.plot(lr_fpr_ch, lr_tpr_ch, marker='.', label='Logistic_chaid', color = \"green\")\n",
    "pyplot.plot(lr_fpr_con, lr_tpr_con, marker='.', label='Logistic_con', color = \"blue\")\n",
    "pyplot.plot(lr_fpr_bin2, lr_tpr_bin2, marker='.', label='Logistic_median', color = \"orange\")\n",
    "pyplot.plot(lr_fpr_bin3, lr_tpr_bin3, marker='.', label='Logistic_tercilis', color = \"pink\")\n",
    "pyplot.plot(lr_fpr_bin4, lr_tpr_bin4, marker='.', label='Logistic_kvartilis', color = \"red\")\n",
    "pyplot.plot(lr_fpr_bin5, lr_tpr_bin5, marker='.', label='Logistic_kvintilis', color = \"yellow\")\n",
    "\n",
    "\n",
    "\n",
    "# axis labels\n",
    "pyplot.xlabel('False Positive Rate')\n",
    "pyplot.ylabel('True Positive Rate')\n",
    "# show the legend\n",
    "pyplot.legend()"
   ]
  },
  {
   "cell_type": "code",
   "execution_count": null,
   "metadata": {},
   "outputs": [],
   "source": []
  }
 ],
 "metadata": {
  "kernelspec": {
   "display_name": "Python 3",
   "language": "python",
   "name": "python3"
  },
  "language_info": {
   "codemirror_mode": {
    "name": "ipython",
    "version": 3
   },
   "file_extension": ".py",
   "mimetype": "text/x-python",
   "name": "python",
   "nbconvert_exporter": "python",
   "pygments_lexer": "ipython3",
   "version": "3.6.8"
  }
 },
 "nbformat": 4,
 "nbformat_minor": 2
}
